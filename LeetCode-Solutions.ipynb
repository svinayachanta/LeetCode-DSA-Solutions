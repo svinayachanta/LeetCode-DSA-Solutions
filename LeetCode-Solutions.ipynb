{
 "cells": [
  {
   "cell_type": "markdown",
   "metadata": {},
   "source": [
    "### Patterns"
   ]
  },
  {
   "cell_type": "markdown",
   "metadata": {},
   "source": [
    "* **Prefix Sum**\n",
    "  - Sum of Elements in a Subarray in constant time\n",
    "\n",
    "* **Two Pointers**\n",
    "  - Two pointers move toward or away each other\n",
    "\n",
    "* **Sliding Window** \n",
    "  - Find subarrays or substring with specific criteria\n",
    "  - Take a window and iterate it supbstracting the left most element\n",
    "  - By this we can use single loop to iterate through the array \n",
    "\n",
    "* **Fast and Slow Pointers**\n",
    "  -  Two pointers move toward or away each other, with same of different speeds\n",
    "  - Works with LL or Arrays involves finding cycles or middle element in one pass\n",
    "\n",
    "* **Linked List In-Place Reversal**\n",
    "  - Rearrage the links between nodes of LL \n",
    "  - Swapping nodes in pairs without using extra space - use 3 pointers null previous and next\n",
    "\n",
    "* **Monotonic Stack**\n",
    "  - Use to find next greater or next smaller element in an array\n",
    "  - For this Avoid sorting (nlogn) and use Min-Heap (KLargest Element), Max-Heap (KSmallestElement) \n",
    "\n",
    "* **Top K Elements** \n",
    "  - Use the find the K Largest, K Smallest, and K Most Frequent Element\n",
    "\n",
    "* **Overlapping Intervals**\n",
    "  - Use for problems involving Intervals or Ranges that may overlap - Merging Intervals, Interval Intersection, Insert Interval\n",
    "  - Problems involving finding minumum meeting rooms for overlapping meeting times\n",
    "\n",
    "* **Modified Binary Search**\n",
    "  - Varient of Normal Binary Search Algo\n",
    "  - Use to solve the problem where the array is not perfectly sorted\n",
    "  - Searching in a Nearly Sorted Array\n",
    "  - Searching in a Rotated Sorted Array\n",
    "  - Searching in a List with Unknown Length\n",
    "  - Searching in an Array with Duplicates\n",
    "  - Finding the First or Last Occurrences of an Element\n",
    "  - Finding the Square Root of a Number\n",
    "  - Finding a Peak Element\n",
    "\n",
    "* **Binary Tree Traversal** \n",
    "  - Binary Trees are all about traversing it in specific order\n",
    "  - Orders like (PreOrder, InOrder, PostOrder) Implementing is Easy with Reccursion, (LevelOrder) Easy with Queue\n",
    "  - Iterative version is bit more complex and need to use stack\n",
    "  - InOrder (Use to retrive the values of BST in sorted order)\n",
    "  - PreOrder (Use to create a copy of a tree [serialization])\n",
    "  - PostOrder (Use when you want to process child nodes before the parent)\n",
    "  - LevelOrder (Use when you need to explore all nodes at current level before next)\n",
    "  \n",
    "* **Depth First Search**\n",
    "  - Used to explore all paths or branches in graphs or trees to solve problems\n",
    "  - DFS can be implemented recursively or iteratively using stack\n",
    "  - Finding a path between two nodes\n",
    "  - Checking if a graph contains a cycle\n",
    "  - Finding a topological order in a directed acyclic graph (DAG)\n",
    "  - Counting number of connected components in a graph\n",
    "  - Approach \n",
    "      - Choose a starting point,\n",
    "      - Keep track of visited nodes, to avoid cycles, \n",
    "      - Perform required operation on current node, \n",
    "      - Explore unvisited neighbours, \n",
    "      - Continue until all the nodes are visited\n",
    "\n",
    "* **Breadth First Search**\n",
    "  - Traversal technique to explore nodes level by level in a tree or graph\n",
    "  - BFS can be implemented using queue\n",
    "  - Finding a shortest path between two nodes\n",
    "  - Printing all nodes of tree level by level\n",
    "  - Finding all connected components in a graph\n",
    "  - Finding the shortest trandormation sequence from one word to another\n",
    "  - Approach \n",
    "      - Add the starting node to the queue,\n",
    "      - Setup visited set, to track processed node\n",
    "      - Continue while the queue is not empty\n",
    "      - Dequeue a node and process it \n",
    "      - Enqueue unvisited neighbors \n",
    "      - Add processed nodes to visited set\n",
    "      - Continue until the queue is empty\n",
    "\n",
    "* **Matrix Traversals (Graph Problems)**\n",
    "  - Graphs has nodes and edges, matrix usually is a 2D array where nodes are the cells where you can reach to adjecent cells horizontally, vertically or diognally depending on problem\n",
    "  - Mostly you can use BFS or DFS to solve matrix or graph problems\n",
    "  - Finding a shortest path in a grid\n",
    "\n",
    "* **Backtracking**\n",
    "  - Used to solve problems that involve exploring all potential solution paths and backtracking paths that do not lead to a valid solution\n",
    "  - Generate all permutations or combinations of a given set of elements\n",
    "  - Puzzles like sudoko or N-queens problem\n",
    "  - Find all possible paths from start to end in a graph or a maze\n",
    "  - Generated all valid parantheisi of a given length\n",
    "  - Generate all possible subsets\n",
    "\n",
    "* **Dynamic Programming**\n",
    "  - Solving optmization problems by breaking them down into smaller sub-problems and storing their solutions to avoid repetitive work\n",
    "  - Useful for probelms like Overlapping subprobelms, optimal substructure\n",
    "  - Problmes where you need to maximize or minimize a certain value\n",
    "  - Problems where you need to count the number of ways to acheive a certain goal\n",
    "  - Common DP Patterns\n",
    "    - Fibonacci Numbers\n",
    "    - 0/1 Knapsack\n",
    "    - Longest Common Subsequence (LCS)\n",
    "    - Longest Increasing Subsequence (LIS)\n",
    "    - Subset Sum\n",
    "    - Matrix Chain Multiplication\n",
    "\n",
    "* **Bit Manipulation** "
   ]
  },
  {
   "cell_type": "markdown",
   "metadata": {},
   "source": [
    "* Array (Sliding Window, Two Pointers, Binary Search)\n",
    "* Linked List (Reversal, Merging, Cycles)\n",
    "* Trees (BFS, DFS, HEAP/Queues)\n",
    "* Heaps and Priority Queues (HEAP Operations, Min/Max Elements)\n",
    "* Backtracking (Sorting Searching)\n",
    "* Dynamic Programming (Memorization-Top Down, Tabulation - Bottom Up)\n",
    "* Graphs (BFS, DFS)\n",
    "* BIT Manipulations (XOR Operations, Single Number, BIT Counting)"
   ]
  },
  {
   "cell_type": "markdown",
   "metadata": {},
   "source": [
    "### Array & Hashing"
   ]
  },
  {
   "cell_type": "markdown",
   "metadata": {},
   "source": [
    "1. Two Sum"
   ]
  },
  {
   "cell_type": "markdown",
   "metadata": {},
   "source": [
    "Given an array of integers nums and an integer target, return indices of the two numbers such that they add up to target."
   ]
  },
  {
   "cell_type": "code",
   "execution_count": 1,
   "metadata": {},
   "outputs": [
    {
     "name": "stdout",
     "output_type": "stream",
     "text": [
      "[0, 3]\n"
     ]
    }
   ],
   "source": [
    "# Brute Force      TC = O(n^2), SC = O(1)\n",
    "from typing import List\n",
    "\n",
    "def twoSum(nums: List[int], target: int) -> List[int]:\n",
    "    for i in range(0, len(nums)):\n",
    "        for j in range(i + 1, len(nums)):\n",
    "            if nums[i] + nums[j] == target:\n",
    "                return [i, j]\n",
    "                \n",
    "nums = [2,7,11,15]\n",
    "target = 17\n",
    "print(twoSum(nums, target))"
   ]
  },
  {
   "cell_type": "code",
   "execution_count": 5,
   "metadata": {},
   "outputs": [
    {
     "name": "stdout",
     "output_type": "stream",
     "text": [
      "[0, 3]\n"
     ]
    }
   ],
   "source": [
    "# HashMap        TC = O(n), SC = O(n)\n",
    "def twoSum(nums: List[int], target: int) -> List[int]:\n",
    "    hashmap = {}\n",
    "    for index,value in enumerate(nums):\n",
    "        diff = target - value\n",
    "        if diff in hashmap:\n",
    "            return [hashmap[diff], index]\n",
    "        else:\n",
    "            hashmap[value] = index\n",
    "\n",
    "nums = [2,7,11,15]\n",
    "target = 17\n",
    "print(twoSum(nums, target))"
   ]
  },
  {
   "cell_type": "markdown",
   "metadata": {},
   "source": [
    "217. Contains Duplicate"
   ]
  },
  {
   "cell_type": "markdown",
   "metadata": {},
   "source": [
    "Given an integer array nums, return true if any value appears at least twice in the array, and return false if every element is distinct."
   ]
  },
  {
   "cell_type": "code",
   "execution_count": 6,
   "metadata": {},
   "outputs": [
    {
     "name": "stdout",
     "output_type": "stream",
     "text": [
      "False\n"
     ]
    }
   ],
   "source": [
    "# Brute Force = TC = O(n^2), SC = O(1)\n",
    "def containsDuplicate(nums: List[int]) -> bool:\n",
    "    for i in range(len(nums)):\n",
    "        for j in range(i+1, len(nums)):\n",
    "            if nums[i] == nums[j]:\n",
    "                return True\n",
    "    return False\n",
    "    \n",
    "nums = [1,2,3,4]\n",
    "print(containsDuplicate(nums))"
   ]
  },
  {
   "cell_type": "code",
   "execution_count": 7,
   "metadata": {},
   "outputs": [
    {
     "name": "stdout",
     "output_type": "stream",
     "text": [
      "True\n"
     ]
    }
   ],
   "source": [
    "# HashMap = Time Complexity = O(n), Space Complexity = O(n)\n",
    "def containsDuplicate(nums: List[int]) -> bool:\n",
    "    hashmap = {}\n",
    "    for index, value in enumerate(nums):\n",
    "        if nums[index] in hashmap:\n",
    "            return True\n",
    "        else:\n",
    "            hashmap[value] = index\n",
    "    return False\n",
    "    \n",
    "nums = [1,2,3,4,1]\n",
    "print(containsDuplicate(nums))"
   ]
  },
  {
   "cell_type": "code",
   "execution_count": 8,
   "metadata": {},
   "outputs": [
    {
     "name": "stdout",
     "output_type": "stream",
     "text": [
      "True\n"
     ]
    }
   ],
   "source": [
    "# If array is sorted:       TC = O(n), SC = O(n)\n",
    "def containsDuplicate(nums: List[int]) -> bool:\n",
    "    for i in range(len(nums)-1):\n",
    "        if nums[i] == nums[i+1]:\n",
    "            return True\n",
    "    return False\n",
    "\n",
    "nums = [1,2,2,3,4,1]\n",
    "print(containsDuplicate(nums))"
   ]
  },
  {
   "cell_type": "markdown",
   "metadata": {},
   "source": [
    "242. Valid Anagram"
   ]
  },
  {
   "cell_type": "markdown",
   "metadata": {},
   "source": [
    "Given two strings s and t, return true if t is an \n",
    "anagram\n",
    " of s, and false otherwise."
   ]
  },
  {
   "cell_type": "code",
   "execution_count": 9,
   "metadata": {},
   "outputs": [
    {
     "name": "stdout",
     "output_type": "stream",
     "text": [
      "True\n"
     ]
    }
   ],
   "source": [
    "# Hashmaps - get() function         TC = O(n), SC = O(n)\n",
    "def isAnagram(s: str, t: str) -> bool:\n",
    "    if len(s) != len(t):\n",
    "        return False\n",
    "    hashmap_s, hashmap_t = {}, {}\n",
    "    for i in s:\n",
    "        hashmap_s[i] = hashmap_s.get(i,0) + 1 # adds and sets i value 0 if i doesnt exists in hashmap\n",
    "    for i in t:\n",
    "        hashmap_t[i] = hashmap_t.get(i,0) + 1\n",
    "    return hashmap_s == hashmap_t\n",
    "\n",
    "s = \"viniv\"\n",
    "t = \"vinvi\"\n",
    "print(isAnagram(s, t))"
   ]
  },
  {
   "cell_type": "code",
   "execution_count": 10,
   "metadata": {},
   "outputs": [
    {
     "name": "stdout",
     "output_type": "stream",
     "text": [
      "True\n"
     ]
    }
   ],
   "source": [
    "# Hashmaps - without get() functions          TC = O(n), SC = O(n)\n",
    "def isAnagram(s: str, t: str) -> bool:\n",
    "    if len(s) != len(t):\n",
    "        return False\n",
    "    hashmap_s, hashmap_t = {}, {}\n",
    "    for i in s:\n",
    "        if i in hashmap_s:\n",
    "            hashmap_s[i] += 1\n",
    "        else:\n",
    "            hashmap_s[i] = 1\n",
    "    for i in t:\n",
    "        if i in hashmap_t:\n",
    "            hashmap_t[i] += 1\n",
    "        else:\n",
    "            hashmap_t[i] = 1\n",
    "    return hashmap_s == hashmap_t\n",
    "\n",
    "s = \"viniv\"\n",
    "t = \"viniv\"\n",
    "print(isAnagram(s, t))"
   ]
  },
  {
   "cell_type": "code",
   "execution_count": 11,
   "metadata": {},
   "outputs": [
    {
     "name": "stdout",
     "output_type": "stream",
     "text": [
      "False\n"
     ]
    }
   ],
   "source": [
    "# Just one Hashmaps - with get() functions        TC = O(n), SC = O(n)\n",
    "def isAnagram(s: str, t: str) -> bool:\n",
    "    if len(s) != len(t):\n",
    "        return False\n",
    "    hashmap = {}\n",
    "    for char in s:\n",
    "        hashmap[char] = hashmap.get(char, 0) + 1\n",
    "    # Loop through the second string and decrement the character count\n",
    "    for char in t:\n",
    "        if char not in hashmap or hashmap[char] == 0:\n",
    "            return False\n",
    "        hashmap[char] -= 1\n",
    "    # If all counts are zero, it's an anagram\n",
    "    return all(count == 0 for count in hashmap.values())\n",
    "\n",
    "s = \"viniv\"\n",
    "t = \"vinia\"\n",
    "print(isAnagram(s, t))"
   ]
  },
  {
   "cell_type": "code",
   "execution_count": 12,
   "metadata": {},
   "outputs": [
    {
     "name": "stdout",
     "output_type": "stream",
     "text": [
      "True\n"
     ]
    }
   ],
   "source": [
    "# Using Counter        TC = O(n), SC = O(n)\n",
    "from collections import Counter    # Counter is O(n) and Uses Dict in the background to keep tracks of counts\n",
    "def isAnagram(s: str, t: str) -> bool:\n",
    "    if len(s) != len(t):\n",
    "        return False\n",
    "    return Counter(s) == Counter(t)\n",
    "\n",
    "s = \"viniv\"\n",
    "t = \"viniv\"\n",
    "print(isAnagram(s, t))"
   ]
  },
  {
   "cell_type": "markdown",
   "metadata": {},
   "source": [
    "49. Group Anagrams"
   ]
  },
  {
   "cell_type": "markdown",
   "metadata": {},
   "source": [
    "Given an array of strings strs, group the anagrams together. You can return the answer in any order."
   ]
  },
  {
   "cell_type": "code",
   "execution_count": 13,
   "metadata": {},
   "outputs": [
    {
     "data": {
      "text/plain": [
       "[['eat', 'tea', 'ate'], ['tan', 'nat'], ['bat']]"
      ]
     },
     "execution_count": 13,
     "metadata": {},
     "output_type": "execute_result"
    }
   ],
   "source": [
    "# Sorting    TC = O(m*nlogn) SC = O(m*n)\n",
    "from collections import defaultdict\n",
    "def groupAnagrams(strs: List[str]) -> List[List[str]]:\n",
    "    res = defaultdict(list)\n",
    "    for s in strs:\n",
    "        sortedS = ''.join(sorted(s))\n",
    "        res[sortedS].append(s)\n",
    "    return list(res.values())\n",
    "    \n",
    "strs = [\"eat\",\"tea\",\"tan\",\"ate\",\"nat\",\"bat\"]\n",
    "groupAnagrams(strs)"
   ]
  },
  {
   "cell_type": "code",
   "execution_count": 14,
   "metadata": {},
   "outputs": [
    {
     "data": {
      "text/plain": [
       "[['eat', 'tea', 'ate'], ['tan', 'nat'], ['bat']]"
      ]
     },
     "execution_count": 14,
     "metadata": {},
     "output_type": "execute_result"
    }
   ],
   "source": [
    "# Hash Table     TC = O(m*n) SC = O(m)\n",
    "def groupAnagrams(strs: List[str]) -> List[List[str]]:\n",
    "    res = defaultdict(list)\n",
    "    for s in strs:\n",
    "        count = [0] * 26\n",
    "        for c in s:\n",
    "            count[ord(c) - ord('a')] += 1\n",
    "        res[tuple(count)].append(s)\n",
    "    return list(res.values())\n",
    "\n",
    "strs = [\"eat\",\"tea\",\"tan\",\"ate\",\"nat\",\"bat\"]\n",
    "groupAnagrams(strs)"
   ]
  },
  {
   "cell_type": "markdown",
   "metadata": {},
   "source": [
    "347. Top K Frequent Elements"
   ]
  },
  {
   "cell_type": "markdown",
   "metadata": {},
   "source": [
    "Given an integer array nums and an integer k, return the k most frequent elements within the array.\n",
    "\n",
    "The test cases are generated such that the answer is always unique."
   ]
  },
  {
   "cell_type": "code",
   "execution_count": 15,
   "metadata": {},
   "outputs": [
    {
     "data": {
      "text/plain": [
       "[1, 2]"
      ]
     },
     "execution_count": 15,
     "metadata": {},
     "output_type": "execute_result"
    }
   ],
   "source": [
    "# Sorting    TC = O(nlogn) SC = O(n)\n",
    "def topKFrequent(nums: List[int], k: int) -> List[int]:\n",
    "    count = {}\n",
    "    for num in nums:\n",
    "        count[num] = 1 + count.get(num, 0)\n",
    "\n",
    "    arr = []\n",
    "    for num, cnt in count.items():\n",
    "        arr.append([cnt, num])\n",
    "    arr.sort()\n",
    "\n",
    "    res = []\n",
    "    while len(res) < k:\n",
    "        res.append(arr.pop()[1])\n",
    "    return res\n",
    "\n",
    "nums = [1,1,1,2,2]\n",
    "k = 2\n",
    "topKFrequent(nums, k)"
   ]
  },
  {
   "cell_type": "code",
   "execution_count": 16,
   "metadata": {},
   "outputs": [
    {
     "data": {
      "text/plain": [
       "[1, 2]"
      ]
     },
     "execution_count": 16,
     "metadata": {},
     "output_type": "execute_result"
    }
   ],
   "source": [
    "# Bucket Sorting    TC = O(n) SC = O(n)\n",
    "def topKFrequent(nums: List[int], k: int) -> List[int]:\n",
    "    count = {}\n",
    "    freq = [[] for i in range(len(nums) + 1)]\n",
    "\n",
    "    for num in nums:\n",
    "        count[num] = 1 + count.get(num, 0)\n",
    "    for num, cnt in count.items():\n",
    "        freq[cnt].append(num)\n",
    "    \n",
    "    res = []\n",
    "    for i in range(len(freq) - 1, 0, -1):\n",
    "        for num in freq[i]:\n",
    "            res.append(num)\n",
    "            if len(res) == k:\n",
    "                return res\n",
    "\n",
    "nums = [1,1,1,2,2]\n",
    "k = 2\n",
    "topKFrequent(nums, k)"
   ]
  },
  {
   "cell_type": "markdown",
   "metadata": {},
   "source": [
    "238. Product of Array Except Self"
   ]
  },
  {
   "cell_type": "code",
   "execution_count": 17,
   "metadata": {},
   "outputs": [
    {
     "name": "stdout",
     "output_type": "stream",
     "text": [
      "[24, 12, 8, 6]\n"
     ]
    }
   ],
   "source": [
    "def productArray(nums):\n",
    "    total_product = 1\n",
    "    for i in nums:\n",
    "        total_product *= i\n",
    "    result = []\n",
    "    for i in nums:\n",
    "        result.append(total_product // i) # result = [total_product // i for i in nums]\n",
    "    return result\n",
    "\n",
    "nums = [1,2,3,4]\n",
    "result = productArray( nums)\n",
    "print(result)"
   ]
  },
  {
   "cell_type": "code",
   "execution_count": 18,
   "metadata": {},
   "outputs": [
    {
     "name": "stdout",
     "output_type": "stream",
     "text": [
      "[24, 12, 8, 6]\n"
     ]
    }
   ],
   "source": [
    "def productArray(nums):\n",
    "    res = [1]*(len(nums))\n",
    "    prefix = 1\n",
    "    for i in range(len(nums)): # pass 1 forward\n",
    "        res[i] = prefix\n",
    "        prefix = prefix * nums[i]\n",
    "    postfix = 1\n",
    "    for i in range(len(nums) -1, -1, -1): # pass 1 backward\n",
    "        res[i] = res[i] * postfix\n",
    "        postfix = postfix * nums[i]\n",
    "    return res\n",
    "\n",
    "nums = [1,2,3,4]\n",
    "result = productArray(nums)\n",
    "print(result)"
   ]
  },
  {
   "cell_type": "markdown",
   "metadata": {},
   "source": [
    "271. Encode and Decode Strings"
   ]
  },
  {
   "cell_type": "markdown",
   "metadata": {},
   "source": [
    "Design an algorithm to encode a list of strings to a single string. The encoded string is then decoded back to the original list of strings.\n",
    "\n"
   ]
  },
  {
   "cell_type": "code",
   "execution_count": 19,
   "metadata": {},
   "outputs": [],
   "source": [
    "# Encoding and Decoding      TC = O(n)  SC = O(m)\n",
    "def encode(strs: List[str]) -> str:\n",
    "    if not strs:\n",
    "        return \"\"\n",
    "    sizes, res = [], \"\"\n",
    "    for s in strs:\n",
    "        sizes.append(len(s))\n",
    "    for sz in sizes:\n",
    "        res += str(sz)\n",
    "        res += ','\n",
    "    res += '#'\n",
    "    for s in strs:\n",
    "        res += s\n",
    "    return res\n",
    "\n",
    "def decode(s: str) -> List[str]:\n",
    "    if not s:\n",
    "        return []\n",
    "    sizes, res, i = [], [], 0\n",
    "    while s[i] != '#':\n",
    "        cur = \"\"\n",
    "        while s[i] != ',':\n",
    "            cur += s[i]\n",
    "            i += 1\n",
    "        sizes.append(int(cur))\n",
    "        i += 1\n",
    "    i += 1\n",
    "    for sz in sizes:\n",
    "        res.append(s[i:i + sz])\n",
    "        i += sz\n",
    "    return res\n"
   ]
  },
  {
   "cell_type": "code",
   "execution_count": 20,
   "metadata": {},
   "outputs": [],
   "source": [
    "# Encoding and Decoding Optimal      TC = O(n)  SC = O(m)\n",
    "def encode(strs: List[str]) -> str:\n",
    "    res = \"\"\n",
    "    for s in strs:\n",
    "        res += str(len(s)) + \"#\" + s\n",
    "    return res\n",
    "\n",
    "def decode(s: str) -> List[str]:\n",
    "    res = []\n",
    "    i = 0\n",
    "    \n",
    "    while i < len(s):\n",
    "        j = i\n",
    "        while s[j] != '#':\n",
    "            j += 1\n",
    "        length = int(s[i:j])\n",
    "        i = j + 1\n",
    "        j = i + length\n",
    "        res.append(s[i:j])\n",
    "        i = j\n",
    "        \n",
    "    return res"
   ]
  },
  {
   "cell_type": "markdown",
   "metadata": {},
   "source": [
    "128. Longest Consecutive Sequence"
   ]
  },
  {
   "cell_type": "markdown",
   "metadata": {},
   "source": [
    "Given an unsorted array of integers nums, return the length of the longest consecutive elements sequence.\n",
    "\n",
    "You must write an algorithm that runs in O(n) time."
   ]
  },
  {
   "cell_type": "code",
   "execution_count": 21,
   "metadata": {},
   "outputs": [],
   "source": [
    "# Brute      TC = O(n^2)  SC = O(n)\n",
    "def longestConsecutive(nums: List[int]) -> int:\n",
    "    res = 0\n",
    "    store = set(nums)\n",
    "\n",
    "    for num in nums:\n",
    "        streak, curr = 0, num\n",
    "        while curr in store:\n",
    "            streak += 1\n",
    "            curr += 1\n",
    "        res = max(res, streak)\n",
    "    return res"
   ]
  },
  {
   "cell_type": "code",
   "execution_count": 22,
   "metadata": {},
   "outputs": [],
   "source": [
    "# Sorting      TC = O(nlogn)  SC = O(1)\n",
    "def longestConsecutive(nums: List[int]) -> int:\n",
    "    if not nums:\n",
    "        return 0\n",
    "    res = 0\n",
    "    nums.sort()\n",
    "    \n",
    "    curr, streak = nums[0], 0\n",
    "    i = 0\n",
    "    while i < len(nums):\n",
    "        if curr != nums[i]:\n",
    "            curr = nums[i]\n",
    "            streak = 0\n",
    "        while i < len(nums) and nums[i] == curr:\n",
    "            i += 1\n",
    "        streak += 1\n",
    "        curr += 1\n",
    "        res = max(res, streak)\n",
    "    return res"
   ]
  },
  {
   "cell_type": "code",
   "execution_count": 23,
   "metadata": {},
   "outputs": [],
   "source": [
    "# Hash Set      TC = O(n)  SC = O(n)\n",
    "def longestConsecutive(nums: List[int]) -> int:\n",
    "    numSet = set(nums)\n",
    "    longest = 0\n",
    "\n",
    "    for num in numSet:\n",
    "        if (num - 1) not in numSet:\n",
    "            length = 1\n",
    "            while (num + length) in numSet:\n",
    "                length += 1\n",
    "            longest = max(length, longest)\n",
    "    return longest"
   ]
  },
  {
   "cell_type": "code",
   "execution_count": 24,
   "metadata": {},
   "outputs": [],
   "source": [
    "# Hash Map      TC = O(n)  SC = O(n)\n",
    "def longestConsecutive(nums: List[int]) -> int:\n",
    "    mp = defaultdict(int)\n",
    "    res = 0\n",
    "\n",
    "    for num in nums:\n",
    "        if not mp[num]:\n",
    "            mp[num] = mp[num - 1] + mp[num + 1] + 1\n",
    "            mp[num - mp[num - 1]] = mp[num]\n",
    "            mp[num + mp[num + 1]] = mp[num]\n",
    "            res = max(res, mp[num])\n",
    "    return res"
   ]
  },
  {
   "cell_type": "markdown",
   "metadata": {},
   "source": [
    "202. Happy Number"
   ]
  },
  {
   "cell_type": "markdown",
   "metadata": {},
   "source": [
    "560. Subarray Sum Equals K"
   ]
  },
  {
   "cell_type": "markdown",
   "metadata": {},
   "source": [
    "448. Find All Numbers Disappeared in an Array"
   ]
  },
  {
   "cell_type": "markdown",
   "metadata": {},
   "source": [
    "136. Single Number"
   ]
  },
  {
   "cell_type": "markdown",
   "metadata": {},
   "source": [
    "Given a non-empty array of integers nums, every element appears twice except for one. Find that single one.\n",
    "\n",
    "You must implement a solution with a linear runtime complexity and use only constant extra space."
   ]
  },
  {
   "cell_type": "code",
   "execution_count": 25,
   "metadata": {},
   "outputs": [
    {
     "data": {
      "text/plain": [
       "4"
      ]
     },
     "execution_count": 25,
     "metadata": {},
     "output_type": "execute_result"
    }
   ],
   "source": [
    "def singleNumber(nums: List[int]) -> int:\n",
    "    result = 0\n",
    "    for num in nums:\n",
    "        result ^= num\n",
    "    return result\n",
    "\n",
    "nums = [4,1,2,1,2]\n",
    "singleNumber(nums)"
   ]
  },
  {
   "cell_type": "markdown",
   "metadata": {},
   "source": [
    "### Two Pointers"
   ]
  },
  {
   "cell_type": "markdown",
   "metadata": {},
   "source": [
    "167. Two Sum II - Input Array Is Sorted"
   ]
  },
  {
   "cell_type": "code",
   "execution_count": null,
   "metadata": {},
   "outputs": [],
   "source": [
    "# Two Sum with Sorted Array         TC = O(n), SC = O(1)\n",
    "def twoSum(nums: List[int], target: int) -> List[int]:\n",
    "    l = 0\n",
    "    r = len(nums) - 1\n",
    "    while l < r:\n",
    "        current_sum = nums[l] + nums[r]\n",
    "        if current_sum == target:\n",
    "            return l, r\n",
    "        elif current_sum < target:\n",
    "            l = l + 1\n",
    "        else:\n",
    "            r = r - 1\n",
    "    print(\"No Solution Found\")\n",
    "\n",
    "nums = [1,2,4,4,5,6]\n",
    "target = 9\n",
    "print(twoSum(nums, target))"
   ]
  },
  {
   "cell_type": "markdown",
   "metadata": {},
   "source": [
    "125. Valid Palindrome\n"
   ]
  },
  {
   "cell_type": "markdown",
   "metadata": {},
   "source": [
    "A phrase is a palindrome if, after converting all uppercase letters into lowercase letters and removing all non-alphanumeric characters, it reads the same forward and backward. Alphanumeric characters include letters and numbers."
   ]
  },
  {
   "cell_type": "code",
   "execution_count": null,
   "metadata": {},
   "outputs": [
    {
     "name": "stdout",
     "output_type": "stream",
     "text": [
      "True\n"
     ]
    }
   ],
   "source": [
    "# Using Reverse and isalnum()     TC = O(n), SC = O(n)\n",
    "def isPalindrome(s: str) -> bool:\n",
    "    filtered_s = \"\"\n",
    "    for i in s:\n",
    "        if i.isalnum():\n",
    "            filtered_s = filtered_s + i.lower()\n",
    "    return filtered_s == filtered_s[::-1]\n",
    "\n",
    "s = \"A man, a plan, a canal: Panama\"\n",
    "s = \"vinayyaniv\"\n",
    "print(isPalindrome(s))"
   ]
  },
  {
   "cell_type": "code",
   "execution_count": 3,
   "metadata": {},
   "outputs": [
    {
     "name": "stdout",
     "output_type": "stream",
     "text": [
      "True\n"
     ]
    }
   ],
   "source": [
    "# Two Pointers      TC = O(n), SC = O(1)\n",
    "def isPalindrome(s: str) -> bool:\n",
    "    l = 0\n",
    "    r = len(s) - 1\n",
    "    while l < r:\n",
    "        while l < r and not s[l].isalnum():\n",
    "            l = l + 1\n",
    "        while l < r and not s[r].isalnum():\n",
    "            r = r - 1\n",
    "        if s[l].lower() != s[r].lower():\n",
    "            return False\n",
    "        l = l + 1\n",
    "        r = r - 1\n",
    "    return True\n",
    "\n",
    "s = \"A man, a plan, a canal: Panama\"\n",
    "print(isPalindrome(s))"
   ]
  },
  {
   "cell_type": "markdown",
   "metadata": {},
   "source": [
    "26. Remove Duplicates from Sorted Array"
   ]
  },
  {
   "cell_type": "markdown",
   "metadata": {},
   "source": [
    "Given an integer array nums sorted in non-decreasing order, remove the duplicates in-place such that each unique element appears only once. The relative order of the elements should be kept the same. Then return the number of unique elements in nums."
   ]
  },
  {
   "cell_type": "code",
   "execution_count": 61,
   "metadata": {},
   "outputs": [
    {
     "name": "stdout",
     "output_type": "stream",
     "text": [
      "4\n"
     ]
    }
   ],
   "source": [
    "# While    TC = O(n^2), SC = O(1)\n",
    "def removeDuplicates(nums: List[int]) -> int:\n",
    "        i=0\n",
    "        while i<len(nums)-1:\n",
    "            if nums[i] == nums[i+1]:\n",
    "                nums.pop(i+1)\n",
    "            else:\n",
    "                i = i+1\n",
    "        return len(nums)\n",
    "        \n",
    "nums = [1,1,2,3,4]\n",
    "print(removeDuplicates(nums))"
   ]
  },
  {
   "cell_type": "code",
   "execution_count": 62,
   "metadata": {},
   "outputs": [
    {
     "name": "stdout",
     "output_type": "stream",
     "text": [
      "5\n"
     ]
    }
   ],
   "source": [
    "# Two Pointers    TC = O(n), SC = O(1)\n",
    "def removeDuplicates(nums: List[int]) -> int:\n",
    "    l = 1\n",
    "    for r in range(1, len(nums)):\n",
    "        if nums[r] != nums[r-1]:\n",
    "            l = l + 1\n",
    "    return l\n",
    "        \n",
    "nums = [0,0,1,1,1,2,2,3,3,4]\n",
    "print(removeDuplicates(nums))"
   ]
  },
  {
   "cell_type": "markdown",
   "metadata": {},
   "source": [
    "15. 3Sum\n"
   ]
  },
  {
   "cell_type": "markdown",
   "metadata": {},
   "source": [
    "Given an integer array nums, return all the triplets [nums[i], nums[j], nums[k]] such that i != j, i != k, and j != k, and nums[i] + nums[j] + nums[k] == 0.\n",
    "\n",
    "Notice that the solution set must not contain duplicate triplets."
   ]
  },
  {
   "cell_type": "code",
   "execution_count": 72,
   "metadata": {},
   "outputs": [
    {
     "name": "stdout",
     "output_type": "stream",
     "text": [
      "-1 0 1\n",
      "0 1 -1\n",
      "None\n"
     ]
    }
   ],
   "source": [
    "# Brute Force    TC = O(n^3), SC = O(1)\n",
    "def threeSum(nums: List[int]) -> List[List[int]]:\n",
    "    for i in range(len(nums)):\n",
    "        for j in range(i+1, len(nums)):\n",
    "            for k in range(j+1, len(nums)):\n",
    "                if nums[i] + nums[j] + nums[k] == 0 and nums[i] != nums[j] and nums[i] != nums[k] and nums[j] != nums[k]:\n",
    "                        print(nums[i], nums[j], nums[k])\n",
    "\n",
    "nums = [-1,0,1,2,-1,-4]\n",
    "print(threeSum(nums))"
   ]
  },
  {
   "cell_type": "code",
   "execution_count": null,
   "metadata": {},
   "outputs": [],
   "source": [
    "# Two Sum + Three Sum  TC = O(n^2), SC = O(n)\n",
    "def threeSum(nums: List[int]) -> List[List[int]]:\n",
    "    answer = []\n",
    "    nums.sort()   # O(nlogn)\n",
    "    \n",
    "    for i in range(len(nums)):\n",
    "        if nums[i] > 0:\n",
    "            break\n",
    "        elif i > 0 and nums[i] == nums[i-1]:\n",
    "            continue\n",
    "        l = i + 1\n",
    "        r = len(nums) - 1\n",
    "        while l < r:\n",
    "            targetsum = nums[i] + nums[l] + nums[r]\n",
    "            if targetsum == 0:\n",
    "                answer.append([nums[i], nums[l], nums[r]])\n",
    "                l = l + 1\n",
    "                r = r - 1\n",
    "                while l < r and nums[l] == nums[l - 1]:\n",
    "                    l = l + 1\n",
    "                while l < r and nums[r] == nums[r + 1]:\n",
    "                    r = r - 1\n",
    "            elif targetsum < 0:\n",
    "                l = l + 1\n",
    "            else:\n",
    "                r = r - 1\n",
    "    return answer\n",
    "\n",
    "nums = [-1,0,1,2,-1,-4]\n",
    "threeSum(nums)"
   ]
  },
  {
   "cell_type": "markdown",
   "metadata": {},
   "source": [
    "11. Container With Most Water\n"
   ]
  },
  {
   "cell_type": "markdown",
   "metadata": {},
   "source": [
    "You are given an integer array height of length n. There are n vertical lines drawn such that the two endpoints of the ith line are (i, 0) and (i, height[i]).\n",
    "\n",
    "Find two lines that together with the x-axis form a container, such that the container contains the most water.\n",
    "\n",
    "Return the maximum amount of water a container can store."
   ]
  },
  {
   "cell_type": "code",
   "execution_count": 63,
   "metadata": {},
   "outputs": [
    {
     "name": "stdout",
     "output_type": "stream",
     "text": [
      "49\n"
     ]
    }
   ],
   "source": [
    "# Brute Force     TC = O(n^2), SC = O(1)\n",
    "def maxArea(height: List[int]) -> int:\n",
    "    max_area = 0\n",
    "    for l in range(0, len(height)):\n",
    "        for r in range(i+1, len(height)):\n",
    "            current_area = (r-l) * min(height[r], height[l])\n",
    "            max_area = max(max_area, current_area)\n",
    "    return max_area\n",
    "\n",
    "height = [1,8,6,2,5,4,8,3,7]\n",
    "print(maxArea(height))    "
   ]
  },
  {
   "cell_type": "code",
   "execution_count": 44,
   "metadata": {},
   "outputs": [
    {
     "name": "stdout",
     "output_type": "stream",
     "text": [
      "49\n"
     ]
    }
   ],
   "source": [
    "# Two Pointers      TC = O(n), SC = O(1)\n",
    "def maxArea(height: List[int]) -> int:\n",
    "    max_area = 0\n",
    "    l = 0\n",
    "    r = len(height) - 1\n",
    "    while l < r:\n",
    "        current_area = (r-l) * min(height[r], height[l])\n",
    "        max_area = max(max_area, current_area)\n",
    "        if height[l] < height[r]:\n",
    "            l = l + 1\n",
    "        else:\n",
    "            r = r - 1\n",
    "    return max_area\n",
    "\n",
    "height = [1,8,6,2,5,4,8,3,7]\n",
    "print(maxArea(height))   "
   ]
  },
  {
   "cell_type": "markdown",
   "metadata": {},
   "source": [
    "75. Sort Colors\n"
   ]
  },
  {
   "cell_type": "markdown",
   "metadata": {},
   "source": [
    "Given an array nums with n objects colored red, white, or blue, sort them in-place so that objects of the same color are adjacent, with the colors in the order red, white, and blue.\n",
    "\n",
    "We will use the integers 0, 1, and 2 to represent the color red, white, and blue, respectively.\n",
    "\n",
    "You must solve this problem without using the library's sort function."
   ]
  },
  {
   "cell_type": "code",
   "execution_count": 95,
   "metadata": {},
   "outputs": [
    {
     "name": "stdout",
     "output_type": "stream",
     "text": [
      "[0, 0, 1, 1, 2, 2]\n"
     ]
    }
   ],
   "source": [
    "# Two Pointers       TC = O(n), SC = O(1)\n",
    "def sortColors(nums):\n",
    "    i = 0\n",
    "    l = 0\n",
    "    r = len(nums) - 1\n",
    "    \n",
    "    while i < r:\n",
    "        if nums[i] == 0:\n",
    "            nums[i], nums[l] = nums[l], nums[i]\n",
    "            i += 1\n",
    "            l += 1\n",
    "        elif nums[i] == 2:\n",
    "            nums[i], nums[r] = nums[r], nums[i]\n",
    "            r -= 1\n",
    "        else:  # nums[i] == 1\n",
    "            i += 1\n",
    "\n",
    "# Example usage\n",
    "nums = [2, 0, 2, 1, 1, 0]\n",
    "sortColors(nums)\n",
    "print(nums) "
   ]
  },
  {
   "cell_type": "markdown",
   "metadata": {},
   "source": [
    "### Sliding Window"
   ]
  },
  {
   "cell_type": "markdown",
   "metadata": {},
   "source": [
    "3. Longest Substring Without Repeating Characters\n"
   ]
  },
  {
   "cell_type": "markdown",
   "metadata": {},
   "source": [
    "Given a string s, find the length of the longest \n",
    "substring\n",
    " without repeating characters."
   ]
  },
  {
   "cell_type": "code",
   "execution_count": 40,
   "metadata": {},
   "outputs": [
    {
     "data": {
      "text/plain": [
       "3"
      ]
     },
     "execution_count": 40,
     "metadata": {},
     "output_type": "execute_result"
    }
   ],
   "source": [
    "# BF      TC = O(n^2)    SC = O(n)\n",
    "def lengthOfLongestSubstring(s: str) -> int:\n",
    "    res = 0\n",
    "    for i in range(len(s)):\n",
    "        charSet = set()\n",
    "        for j in range(i, len(s)):\n",
    "            if s[j] in charSet:\n",
    "                break\n",
    "            charSet.add(s[j])\n",
    "        res = max(res, len(charSet))\n",
    "    return res\n",
    "\n",
    "s = \"abcabcbb\"\n",
    "lengthOfLongestSubstring(s)"
   ]
  },
  {
   "cell_type": "code",
   "execution_count": 34,
   "metadata": {},
   "outputs": [
    {
     "data": {
      "text/plain": [
       "3"
      ]
     },
     "execution_count": 34,
     "metadata": {},
     "output_type": "execute_result"
    }
   ],
   "source": [
    "# Set    sett.remove(s[l])   sett.add(s[r])       TC = O(n)    SC = O(n)\n",
    "def lengthOfLongestSubstring(s: str) -> int:\n",
    "    charset = set()\n",
    "    longest = 0\n",
    "    l = 0\n",
    "    for r in range(len(s)):\n",
    "        while s[r] in charset:\n",
    "            charset.remove(s[l])\n",
    "            l = l + 1\n",
    "        charset.add(s[r])\n",
    "        current_longest = (r - l) + 1\n",
    "        longest = max(longest, current_longest) \n",
    "    return longest\n",
    "\n",
    "s = \"abcabcbb\"\n",
    "lengthOfLongestSubstring(s)"
   ]
  },
  {
   "cell_type": "code",
   "execution_count": 42,
   "metadata": {},
   "outputs": [
    {
     "data": {
      "text/plain": [
       "3"
      ]
     },
     "execution_count": 42,
     "metadata": {},
     "output_type": "execute_result"
    }
   ],
   "source": [
    "# Hashmap    sett.remove(s[l])   sett.add(s[r])       TC = O(n)    SC = O(n)\n",
    "def lengthOfLongestSubstring(s: str) -> int:\n",
    "    mp = {}\n",
    "    l = 0\n",
    "    res = 0\n",
    "    \n",
    "    for r in range(len(s)):\n",
    "        if s[r] in mp:\n",
    "            l = max(mp[s[r]] + 1, l)\n",
    "        mp[s[r]] = r\n",
    "        res = max(res, r - l + 1)\n",
    "    return res\n",
    "\n",
    "s = \"abcabcbb\"\n",
    "lengthOfLongestSubstring(s)"
   ]
  },
  {
   "cell_type": "markdown",
   "metadata": {},
   "source": [
    "121. Best Time to Buy and Sell Stock"
   ]
  },
  {
   "cell_type": "markdown",
   "metadata": {},
   "source": [
    "You are given an array prices where prices[i] is the price of a given stock on the ith day.\n",
    "\n",
    "You want to maximize your profit by choosing a single day to buy one stock and choosing a different day in the future to sell that stock."
   ]
  },
  {
   "cell_type": "code",
   "execution_count": 43,
   "metadata": {},
   "outputs": [
    {
     "name": "stdout",
     "output_type": "stream",
     "text": [
      "5\n"
     ]
    }
   ],
   "source": [
    "# Time Complexisty = O(n), Space Complexity = O(1)\n",
    "def maxProfit(prices: List[int]) -> int:\n",
    "    left = 0\n",
    "    right = 1\n",
    "    max_profit = 0\n",
    "    while right < len(prices):\n",
    "        if prices[left] < prices[right]:\n",
    "            profit = prices[right] - prices[left]\n",
    "            max_profit = max(profit, max_profit)\n",
    "        else:\n",
    "            left = right\n",
    "        right += 1\n",
    "    return max_profit\n",
    "\n",
    "prices = [7,1,5,3,6,4]\n",
    "print(maxProfit(prices))"
   ]
  },
  {
   "cell_type": "markdown",
   "metadata": {},
   "source": [
    "76. Minimum Window Substring\n"
   ]
  },
  {
   "cell_type": "markdown",
   "metadata": {},
   "source": [
    "567. Permutation in String\n"
   ]
  },
  {
   "cell_type": "markdown",
   "metadata": {},
   "source": [
    "Given two strings s1 and s2, return true if s2 contains a \n",
    "permutation\n",
    " of s1, or false otherwise.\n",
    "\n",
    "In other words, return true if one of s1's permutations is the substring of s2."
   ]
  },
  {
   "cell_type": "code",
   "execution_count": null,
   "metadata": {},
   "outputs": [],
   "source": []
  },
  {
   "cell_type": "markdown",
   "metadata": {},
   "source": [
    "239. Sliding Window Maximum\n"
   ]
  },
  {
   "cell_type": "markdown",
   "metadata": {},
   "source": [
    "424. Longest Repeating Character Replacement\n"
   ]
  },
  {
   "cell_type": "markdown",
   "metadata": {},
   "source": [
    "30. Substring with Concatenation of All Words"
   ]
  },
  {
   "cell_type": "markdown",
   "metadata": {},
   "source": [
    "### Stack"
   ]
  },
  {
   "cell_type": "markdown",
   "metadata": {},
   "source": [
    "20. Valid Parentheses"
   ]
  },
  {
   "cell_type": "markdown",
   "metadata": {},
   "source": [
    "Given a string s containing just the characters '(', ')', '{', '}', '[' and ']', determine if the input string is valid.\n",
    "\n",
    "An input string is valid if:\n",
    "\n",
    "Open brackets must be closed by the same type of brackets.\n",
    "Open brackets must be closed in the correct order.\n",
    "Every close bracket has a corresponding open bracket of the same type.\n"
   ]
  },
  {
   "cell_type": "code",
   "execution_count": null,
   "metadata": {},
   "outputs": [],
   "source": [
    "# Brute          TC = O(N^2)  SC = O(N)\n",
    "def isValid(self, s: str) -> bool:\n",
    "        while '()' in s or '{}' in s or '[]' in s:\n",
    "            s = s.replace('()', '')\n",
    "            s = s.replace('{}', '')\n",
    "            s = s.replace('[]', '')\n",
    "        return s == ''"
   ]
  },
  {
   "cell_type": "code",
   "execution_count": 2,
   "metadata": {},
   "outputs": [
    {
     "data": {
      "text/plain": [
       "True"
      ]
     },
     "execution_count": 2,
     "metadata": {},
     "output_type": "execute_result"
    }
   ],
   "source": [
    "# Stack and Hash          TC = O(N)  SC = O(N)\n",
    "def isValid(s: str) -> bool:\n",
    "    stack = []\n",
    "    closetoOpen = { \")\" : \"(\", \"]\" : \"[\", \"}\" : \"{\"}\n",
    "    for c in s:\n",
    "        if c in closetoOpen:\n",
    "            if stack and stack[-1] == closetoOpen[c]: # if stack exist and top element  is open bracket exists in dict\n",
    "                stack.pop()\n",
    "            else:\n",
    "                return False\n",
    "        else:\n",
    "            stack.append(c)\n",
    "    return True if not stack else False\n",
    "\n",
    "s = \"()[]\"\n",
    "isValid(s)"
   ]
  },
  {
   "cell_type": "markdown",
   "metadata": {},
   "source": [
    "### Binary Search \n"
   ]
  },
  {
   "cell_type": "markdown",
   "metadata": {},
   "source": [
    "704. Binary Search\n"
   ]
  },
  {
   "cell_type": "markdown",
   "metadata": {},
   "source": [
    "Given an array of integers nums which is sorted in ascending order, and an integer target, write a function to search target in nums. If target exists, then return its index. Otherwise, return -1. You must write an algorithm with O(log n) runtime complexity."
   ]
  },
  {
   "cell_type": "code",
   "execution_count": 37,
   "metadata": {},
   "outputs": [
    {
     "data": {
      "text/plain": [
       "4"
      ]
     },
     "execution_count": 37,
     "metadata": {},
     "output_type": "execute_result"
    }
   ],
   "source": [
    "# Linear Search       TC = O(n)    SC = O(1)\n",
    "def search(nums: List[int], target: int) -> int:\n",
    "    for i, v in enumerate(nums):\n",
    "        if v == target:\n",
    "            return i\n",
    "    return -1\n",
    "\n",
    "nums = [-1,0,3,5,9,12]\n",
    "target = 9\n",
    "search(nums, target)"
   ]
  },
  {
   "cell_type": "code",
   "execution_count": 29,
   "metadata": {},
   "outputs": [
    {
     "data": {
      "text/plain": [
       "4"
      ]
     },
     "execution_count": 29,
     "metadata": {},
     "output_type": "execute_result"
    }
   ],
   "source": [
    "# Binary Search       TC = O(log n)    SC = O(1)\n",
    "def search(nums: List[int], target: int) -> int:\n",
    "    l = 0\n",
    "    r = len(nums) - 1\n",
    "    while l <= r:\n",
    "        m = (l + r) // 2\n",
    "        if nums[m] < target:\n",
    "            l = m + 1\n",
    "        elif nums[m] > target:\n",
    "            r = m - 1\n",
    "        else:\n",
    "            return m\n",
    "    return -1\n",
    "\n",
    "nums = [-1,0,3,5,9,12]\n",
    "target = 9\n",
    "search(nums, target)"
   ]
  },
  {
   "cell_type": "markdown",
   "metadata": {},
   "source": [
    "35. Search Insert Position"
   ]
  },
  {
   "cell_type": "markdown",
   "metadata": {},
   "source": [
    "Given a sorted array of distinct integers and a target value, return the index if the target is found. If not, return the index where it would be if it were inserted in order. You must write an algorithm with O(log n) runtime complexity."
   ]
  },
  {
   "cell_type": "code",
   "execution_count": 41,
   "metadata": {},
   "outputs": [
    {
     "data": {
      "text/plain": [
       "3"
      ]
     },
     "execution_count": 41,
     "metadata": {},
     "output_type": "execute_result"
    }
   ],
   "source": [
    "# Binary Search       TC = O(log n)    SC = O(1)\n",
    "def searchInsert(nums: List[int], target: int) -> int:\n",
    "    l = 0\n",
    "    r = len(nums) - 1\n",
    "    while l <= r:\n",
    "        m = (l+r)//2\n",
    "        if nums[m] == target:\n",
    "            return m\n",
    "        elif nums[m] < target:\n",
    "            l = m + 1\n",
    "        elif nums[m] > target:\n",
    "            r = m - 1\n",
    "    return l\n",
    "\n",
    "nums = [1,3,5,7]\n",
    "target = 6\n",
    "searchInsert(nums, target)"
   ]
  },
  {
   "cell_type": "markdown",
   "metadata": {},
   "source": [
    "33. Search in Rotated Sorted Array"
   ]
  },
  {
   "cell_type": "markdown",
   "metadata": {},
   "source": [
    "There is an integer array nums sorted in ascending order (with distinct values).\n",
    "\n",
    "Prior to being passed to your function, nums is possibly rotated at an unknown pivot index k (1 <= k < nums.length) such that the resulting array is [nums[k], nums[k+1], ..., nums[n-1], nums[0], nums[1], ..., nums[k-1]] (0-indexed). For example, [0,1,2,4,5,6,7] might be rotated at pivot index 3 and become [4,5,6,7,0,1,2].\n",
    "\n",
    "Given the array nums after the possible rotation and an integer target, return the index of target if it is in nums, or -1 if it is not in nums. You must write an algorithm with O(log n) runtime complexity."
   ]
  },
  {
   "cell_type": "code",
   "execution_count": 5,
   "metadata": {},
   "outputs": [
    {
     "name": "stdout",
     "output_type": "stream",
     "text": [
      "8\n"
     ]
    }
   ],
   "source": [
    "# Linear Search            TC = O(n)    SC = O(1)\n",
    "# Binary            TC = O(logn)    SC = O(1)\n",
    "def search(nums: List[int], target: int) -> int:\n",
    "    left = 0\n",
    "    right = len(nums) - 1\n",
    "    while left <= right:\n",
    "        mid = (left + right) // 2\n",
    "        if nums[mid] == target:\n",
    "            return mid\n",
    "        # Check if left portion is sorted\n",
    "        if nums[left] <= nums[mid]:\n",
    "            # Condition to check to determine target is not in left and move to right\n",
    "            # Move to the right if the target is not in the left portion\n",
    "            if nums[mid] < target or nums[left] > target:\n",
    "                left = mid + 1\n",
    "            else:\n",
    "                right = mid - 1 \n",
    "        # Otherwise right portion is sorted\n",
    "        else:\n",
    "            # Condition to check to determine target is not in right and move to left\n",
    "            # Move to the left if the target is not in the right portion\n",
    "            if target < nums[mid] or target > nums[right]:\n",
    "                right = mid -1\n",
    "            else:\n",
    "                left = mid + 1\n",
    "    return -1\n",
    "\n",
    "nums = [8, 9, 10, 1, 2, 3, 4, 5, 6, 7]\n",
    "target = 6\n",
    "print(search(nums, target))\n"
   ]
  },
  {
   "cell_type": "code",
   "execution_count": 19,
   "metadata": {},
   "outputs": [
    {
     "name": "stdout",
     "output_type": "stream",
     "text": [
      "8\n"
     ]
    }
   ],
   "source": [
    "# Binary            TC = O(logn)    SC = O(1)\n",
    "def search(nums: List[int], target: int) -> int:\n",
    "    l = 0\n",
    "    r = len(nums) - 1\n",
    "    while l < r:\n",
    "        m = (l + r) // 2\n",
    "        # Determine which half to continue the search\n",
    "        if nums[m] == target:\n",
    "            return m\n",
    "        elif nums[l] <= nums[m]:\n",
    "            if nums[l] <= target < nums[m]:\n",
    "                r = m\n",
    "            else:\n",
    "                l = m + 1\n",
    "        else:\n",
    "            if nums[m] < target <= nums[r]:\n",
    "                l = m + 1\n",
    "            else:\n",
    "                r = m\n",
    "    # Final check if target is at position l\n",
    "    return l if nums[l] == target else -1\n",
    "nums = [8, 9, 10, 1, 2, 3, 4, 5, 6, 7]\n",
    "target = 6\n",
    "print(search(nums, target))"
   ]
  },
  {
   "cell_type": "markdown",
   "metadata": {},
   "source": [
    "153. Find Minimum in Rotated Sorted Array"
   ]
  },
  {
   "cell_type": "markdown",
   "metadata": {},
   "source": [
    "Suppose an array of length n sorted in ascending order is rotated between 1 and n times. For example, the array nums = [0,1,2,4,5,6,7] might become:\n",
    "\n",
    "[4,5,6,7,0,1,2] if it was rotated 4 times.\n",
    "[0,1,2,4,5,6,7] if it was rotated 7 times.\n",
    "Notice that rotating an array [a[0], a[1], a[2], ..., a[n-1]] 1 time results in the array [a[n-1], a[0], a[1], a[2], ..., a[n-2]].\n",
    "\n",
    "Given the sorted rotated array nums of unique elements, return the minimum element of this array. You must write an algorithm that runs in O(log n) time."
   ]
  },
  {
   "cell_type": "code",
   "execution_count": 10,
   "metadata": {},
   "outputs": [
    {
     "data": {
      "text/plain": [
       "0"
      ]
     },
     "execution_count": 10,
     "metadata": {},
     "output_type": "execute_result"
    }
   ],
   "source": [
    "# Binary Search            TC = O(logn)    SC = O(1)\n",
    "def findMin(nums: List[int]) -> int:\n",
    "    res = nums[0]\n",
    "    l = 0\n",
    "    r = len(nums) - 1\n",
    "    while l <= r:\n",
    "        if nums[l] < nums[r]:\n",
    "            res = min(res, nums[l])\n",
    "            break\n",
    "        \n",
    "        mid = (l + r) // 2\n",
    "        res = min(res, nums[mid])\n",
    "        if nums[l] <= nums[mid]:\n",
    "            l = mid + 1\n",
    "        else:\n",
    "            r = mid - 1\n",
    "    return res\n",
    "\n",
    "nums = [4,5,6,7,0,1,2]  \n",
    "findMin(nums)  "
   ]
  },
  {
   "cell_type": "code",
   "execution_count": 15,
   "metadata": {},
   "outputs": [
    {
     "data": {
      "text/plain": [
       "0"
      ]
     },
     "execution_count": 15,
     "metadata": {},
     "output_type": "execute_result"
    }
   ],
   "source": [
    "# Binary Search Lower Bound            TC = O(logn)    SC = O(1)\n",
    "def findMin(nums: List[int]) -> int:\n",
    "    l = 0, \n",
    "    r = len(nums) - 1\n",
    "    while l < r:\n",
    "        mid = (l+r) // 2\n",
    "        if nums[mid] < nums[r]:\n",
    "            r = mid\n",
    "        else:\n",
    "            l = mid + 1\n",
    "    return nums[l]\n",
    "\n",
    "nums = [4,5,6,7,0,1,2]\n",
    "findMin(nums)"
   ]
  },
  {
   "cell_type": "markdown",
   "metadata": {},
   "source": [
    "74. Search a 2D Matrix\n"
   ]
  },
  {
   "cell_type": "markdown",
   "metadata": {},
   "source": [
    "240. Search a 2D Matrix II"
   ]
  },
  {
   "cell_type": "markdown",
   "metadata": {},
   "source": [
    "981. Time-Based Key-Value Store"
   ]
  },
  {
   "cell_type": "markdown",
   "metadata": {},
   "source": [
    "### Linked Lists "
   ]
  },
  {
   "cell_type": "markdown",
   "metadata": {},
   "source": [
    "206. Reverse Linked List\n"
   ]
  },
  {
   "cell_type": "markdown",
   "metadata": {},
   "source": [
    "Given the head of a singly linked list, reverse the list, and return the reversed list."
   ]
  },
  {
   "cell_type": "code",
   "execution_count": 31,
   "metadata": {},
   "outputs": [],
   "source": [
    "from typing import Optional\n",
    "class ListNode:\n",
    "    def __init__(self, val=0, next=None):\n",
    "        self.val = val\n",
    "        self.next = next\n",
    "\n",
    "# Helper function to create a linked list from a list of values\n",
    "def create_linked_list(values):\n",
    "    if not values:\n",
    "        return None\n",
    "    head = ListNode(values[0])\n",
    "    current = head\n",
    "    for value in values[1:]:\n",
    "        current.next = ListNode(value)\n",
    "        current = current.next\n",
    "    return head\n",
    "\n",
    "# Helper function to print a linked list\n",
    "def print_linked_list(head):\n",
    "    values = []\n",
    "    while head:\n",
    "        values.append(head.val)\n",
    "        head = head.next\n",
    "    print(\" -> \".join(map(str, values)))"
   ]
  },
  {
   "cell_type": "code",
   "execution_count": 22,
   "metadata": {},
   "outputs": [
    {
     "name": "stdout",
     "output_type": "stream",
     "text": [
      "Original Linked List:\n",
      "1 -> 2 -> 3 -> 4 -> 5\n",
      "Reversed Linked List:\n",
      "5 -> 4 -> 3 -> 2 -> 1\n"
     ]
    }
   ],
   "source": [
    "# Iteration using Pointers        TC = O(n)    SC = O(1)\n",
    "def reverseList(head: ListNode) -> ListNode:\n",
    "    prev = None     # Pointer A\n",
    "    curr = head    # Pointer B\n",
    "    while curr:\n",
    "        next_temp = curr.next  # Save the next node\n",
    "        curr.next = prev       # Break the current link to next and Reverse the link\n",
    "        prev = curr            # Move prev forward\n",
    "        curr = next_temp       # Move curr forward\n",
    "    return prev\n",
    "\n",
    "values = [1, 2, 3, 4, 5]\n",
    "head = create_linked_list(values)\n",
    "print(\"Original Linked List:\")\n",
    "print_linked_list(head)\n",
    "reversed_head = reverseList(head)\n",
    "print(\"Reversed Linked List:\")\n",
    "print_linked_list(reversed_head)\n"
   ]
  },
  {
   "cell_type": "code",
   "execution_count": 29,
   "metadata": {},
   "outputs": [
    {
     "name": "stdout",
     "output_type": "stream",
     "text": [
      "Original Linked List:\n",
      "1 -> 2 -> 3 -> 4 -> 5\n",
      "Reversed Linked List using Reccursion:\n",
      "5 -> 4 -> 3 -> 2 -> 1\n"
     ]
    }
   ],
   "source": [
    "# Recursion         TC = O(n)    SC = O(n)\n",
    "def reverseList(head: ListNode) -> ListNode:\n",
    "    # Base case: If the list is empty or we reach the last node, return it\n",
    "    if not head or not head.next:\n",
    "        return head\n",
    "    new_head = reverseList(head.next) # Recursive call to reverse the rest of the list\n",
    "    head.next.next = head             # Reverse the link: Make the next node point back to the current node\n",
    "    head.next = None                  # Break the original link to avoid cycles\n",
    "    return new_head                   # Return the new head of the reversed list\n",
    "\n",
    "values = [1, 2, 3, 4, 5]\n",
    "head = create_linked_list(values)\n",
    "print(\"Original Linked List:\")\n",
    "print_linked_list(head)\n",
    "reversed_head = reverseList(head)\n",
    "print(\"Reversed Linked List using Reccursion:\")\n",
    "print_linked_list(reversed_head)"
   ]
  },
  {
   "cell_type": "markdown",
   "metadata": {},
   "source": [
    "21. Merge Two Sorted Lists\n"
   ]
  },
  {
   "cell_type": "markdown",
   "metadata": {},
   "source": [
    "You are given the heads of two sorted linked lists list1 and list2.\n",
    "\n",
    "Merge the two lists into one sorted list. The list should be made by splicing together the nodes of the first two lists.\n",
    "\n",
    "Return the head of the merged linked list."
   ]
  },
  {
   "cell_type": "code",
   "execution_count": null,
   "metadata": {},
   "outputs": [
    {
     "name": "stdout",
     "output_type": "stream",
     "text": [
      "List 1:\n",
      "1 -> 2 -> 4\n",
      "List 2:\n",
      "1 -> 3 -> 4\n",
      "Merged List:\n",
      "1 -> 1 -> 2 -> 3 -> 4 -> 4\n"
     ]
    }
   ],
   "source": [
    "# Iteration         TC = O(n)    SC = O(1)\n",
    "def mergeTwoLists(list1: Optional[ListNode], list2: Optional[ListNode]) -> Optional[ListNode]:\n",
    "    # Create a dummy node to serve as the starting point for the merged list\n",
    "    dummy = ListNode()\n",
    "    current_pointer = dummy\n",
    "    \n",
    "    # Traverse both lists until one is empty\n",
    "    while list1 and list2:\n",
    "        if list1.val < list2.val:\n",
    "            current_pointer.next = list1  # Attach the node from list1\n",
    "            list1 = list1.next     # Move the pointer of list1 forward\n",
    "        else:\n",
    "            current_pointer.next = list2  # Attach the node from list2\n",
    "            list2 = list2.next     # Move the pointer of list2 forward\n",
    "        current_pointer = current_pointer.next   # Move the current pointer forward\n",
    "\n",
    "    # If any elements are left in either list, attach them to the merged list\n",
    "    if list1:\n",
    "        current_pointer.next = list1\n",
    "    if list2:\n",
    "        current_pointer.next = list2\n",
    "    return dummy.next\n",
    "\n",
    "list1_values = [1, 2, 4]\n",
    "list2_values = [1, 3, 4]\n",
    "list1 = create_linked_list(list1_values)\n",
    "list2 = create_linked_list(list2_values)\n",
    "print(\"List 1:\")\n",
    "print_linked_list(list1)\n",
    "print(\"List 2:\")\n",
    "print_linked_list(list2)\n",
    "merged_list = mergeTwoLists(list1, list2)\n",
    "print(\"Merged List:\")\n",
    "print_linked_list(merged_list)"
   ]
  },
  {
   "cell_type": "code",
   "execution_count": 39,
   "metadata": {},
   "outputs": [
    {
     "name": "stdout",
     "output_type": "stream",
     "text": [
      "List 1:\n",
      "1 -> 2 -> 4\n",
      "List 2:\n",
      "1 -> 3 -> 4\n",
      "Merged List using Recurrsion:\n",
      "1 -> 1 -> 2 -> 3 -> 4 -> 4\n"
     ]
    }
   ],
   "source": [
    "# Recursion         TC = O(n)    SC = O(n)\n",
    "def mergeTwoLists(list1: Optional[ListNode], list2: Optional[ListNode]) -> Optional[ListNode]:\n",
    "        if list1 is None:\n",
    "            return list2\n",
    "        if list2 is None:\n",
    "            return list1\n",
    "        if list1.val <= list2.val:\n",
    "            list1.next = mergeTwoLists(list1.next, list2)\n",
    "            return list1\n",
    "        else:\n",
    "            list2.next = mergeTwoLists(list1, list2.next)\n",
    "            return list2\n",
    "\n",
    "list1_values = [1, 2, 4]\n",
    "list2_values = [1, 3, 4]\n",
    "list1 = create_linked_list(list1_values)\n",
    "list2 = create_linked_list(list2_values)\n",
    "print(\"List 1:\")\n",
    "print_linked_list(list1)\n",
    "print(\"List 2:\")\n",
    "print_linked_list(list2)\n",
    "merged_list = mergeTwoLists(list1, list2)\n",
    "print(\"Merged List using Recurrsion:\")\n",
    "print_linked_list(merged_list)"
   ]
  },
  {
   "cell_type": "markdown",
   "metadata": {},
   "source": [
    "141. Linked List Cycle\n"
   ]
  },
  {
   "cell_type": "markdown",
   "metadata": {},
   "source": [
    "Given head, the head of a linked list, determine if the linked list has a cycle in it.\n",
    "\n",
    "There is a cycle in a linked list if there is some node in the list that can be reached again by continuously following the next pointer. Internally, pos is used to denote the index of the node that tail's next pointer is connected to. Note that pos is not passed as a parameter.\n",
    "\n",
    "Return true if there is a cycle in the linked list. Otherwise, return false."
   ]
  },
  {
   "cell_type": "code",
   "execution_count": 45,
   "metadata": {},
   "outputs": [
    {
     "name": "stdout",
     "output_type": "stream",
     "text": [
      "1 -> 2\n"
     ]
    },
    {
     "data": {
      "text/plain": [
       "False"
      ]
     },
     "execution_count": 45,
     "metadata": {},
     "output_type": "execute_result"
    }
   ],
   "source": [
    "# Fast and Slow pointers TC = O(n)    SC = O(1)\n",
    "def hasCycle(head: Optional[ListNode]) -> bool:\n",
    "    # Initialize two pointers, both starting from the head of the list.\n",
    "    # Slow pointer moves one step at a time, fast pointer moves two steps at a time.\n",
    "    slow, fast = head, head\n",
    "    # Continue traversing as long as 'fast' and 'fast.next' are valid (not None)\n",
    "    # If 'fast' or 'fast.next' becomes None, we know we've reached the end of the list, so no cycle exists.\n",
    "    while fast and fast.next:\n",
    "        slow = slow.next           # Move slow pointer one step forward\n",
    "        fast = fast.next.next      # Move fast pointer two steps forward\n",
    "        if slow == fast:           # Check if the two pointers meet (i.e., a cycle exists)\n",
    "            return True            # If the slow pointer and fast pointer meet, a cycle is detected\n",
    "    return False    # If we exit the loop, no cycle was detected (fast pointer reached the end of the list)\n",
    "\n",
    "values = [1, 2]\n",
    "head = create_linked_list(values)\n",
    "print_linked_list(head)\n",
    "hasCycle(head)"
   ]
  },
  {
   "cell_type": "code",
   "execution_count": 46,
   "metadata": {},
   "outputs": [
    {
     "name": "stdout",
     "output_type": "stream",
     "text": [
      "1 -> 2\n"
     ]
    },
    {
     "data": {
      "text/plain": [
       "False"
      ]
     },
     "execution_count": 46,
     "metadata": {},
     "output_type": "execute_result"
    }
   ],
   "source": [
    "# Hashset      TC = O(n)    SC = O(n)  \n",
    "def hasCycle(head: Optional[ListNode]) -> bool:\n",
    "    hashmap = set()\n",
    "    current_pointer = head\n",
    "    while current_pointer:\n",
    "        if current_pointer in hashmap:\n",
    "            return True\n",
    "        hashmap.add(current_pointer)\n",
    "        current_pointer = current_pointer.next\n",
    "    return False\n",
    "\n",
    "values = [1, 2]\n",
    "head = create_linked_list(values)\n",
    "print_linked_list(head)\n",
    "hasCycle(head)"
   ]
  },
  {
   "cell_type": "markdown",
   "metadata": {},
   "source": [
    "19. Remove Nth Node from End of List\n"
   ]
  },
  {
   "cell_type": "markdown",
   "metadata": {},
   "source": [
    "2. Add Two Numbers\n"
   ]
  },
  {
   "cell_type": "code",
   "execution_count": null,
   "metadata": {},
   "outputs": [],
   "source": [
    "# Reverse Linked List II\n",
    "# Swap Nodes in Pairs"
   ]
  },
  {
   "cell_type": "markdown",
   "metadata": {},
   "source": [
    "143. Reorder List\n"
   ]
  },
  {
   "cell_type": "markdown",
   "metadata": {},
   "source": [
    "142. Linked List Cycle II"
   ]
  },
  {
   "cell_type": "markdown",
   "metadata": {},
   "source": [
    "### Trees \n"
   ]
  },
  {
   "cell_type": "markdown",
   "metadata": {},
   "source": [
    "226. Invert Binary Tree"
   ]
  },
  {
   "cell_type": "markdown",
   "metadata": {},
   "source": [
    "Given the root of a binary tree, invert the tree, and return its root.\n",
    "\n"
   ]
  },
  {
   "cell_type": "code",
   "execution_count": 47,
   "metadata": {},
   "outputs": [],
   "source": [
    "from typing import Optional\n",
    "\n",
    "# Definition for a binary tree node.\n",
    "class TreeNode:\n",
    "    def __init__(self, val=0, left=None, right=None):\n",
    "        self.val = val\n",
    "        self.left = left\n",
    "        self.right = right\n",
    "\n",
    "# Helper function to create a binary tree from a list of values\n",
    "def create_tree(values):\n",
    "    if not values:\n",
    "        return None\n",
    "    root = TreeNode(values[0])\n",
    "    queue = [root]\n",
    "    i = 1\n",
    "    while i < len(values):\n",
    "        node = queue.pop(0)\n",
    "        if values[i] is not None:\n",
    "            node.left = TreeNode(values[i])\n",
    "            queue.append(node.left)\n",
    "        i += 1\n",
    "        if i < len(values) and values[i] is not None:\n",
    "            node.right = TreeNode(values[i])\n",
    "            queue.append(node.right)\n",
    "        i += 1\n",
    "    return root\n",
    "\n",
    "# Helper function to print the binary tree in level-order (BFS)\n",
    "def print_tree(root):\n",
    "    if not root:\n",
    "        return\n",
    "    queue = [root]\n",
    "    while queue:\n",
    "        node = queue.pop(0)\n",
    "        if node:\n",
    "            print(node.val, end=\" \")\n",
    "            queue.append(node.left)\n",
    "            queue.append(node.right)"
   ]
  },
  {
   "cell_type": "code",
   "execution_count": 54,
   "metadata": {},
   "outputs": [
    {
     "name": "stdout",
     "output_type": "stream",
     "text": [
      "Original Tree (Level-order):\n",
      "4 2 7 1 3 6 9 \n",
      "Inverted Tree (Level-order):\n",
      "4 7 2 9 6 3 1 "
     ]
    }
   ],
   "source": [
    "from collections import deque\n",
    "# Breadth First Search                  TC = O(n)    SC = O(n)\n",
    "def invertTree(root: Optional[TreeNode]) -> Optional[TreeNode]:\n",
    "    if not root:\n",
    "        return None\n",
    "    queue = deque([root])\n",
    "    while queue:\n",
    "        node = queue.popleft()\n",
    "        node.left, node.right = node.right, node.left\n",
    "        if node.left:\n",
    "            queue.append(node.left)\n",
    "        if node.right:\n",
    "            queue.append(node.right)\n",
    "    return root\n",
    "\n",
    "values = [4, 2, 7, 1, 3, 6, 9]\n",
    "root = create_tree(values)\n",
    "print(\"Original Tree (Level-order):\")\n",
    "print_tree(root)\n",
    "inverted_root = invertTree(root)     # Invert the tree using BFS\n",
    "print(\"\\nInverted Tree (Level-order):\")\n",
    "print_tree(inverted_root)"
   ]
  },
  {
   "cell_type": "code",
   "execution_count": 50,
   "metadata": {},
   "outputs": [
    {
     "name": "stdout",
     "output_type": "stream",
     "text": [
      "Original Tree (Level-order):\n",
      "4 2 7 1 3 6 9 \n",
      "Inverted Tree (Level-order):\n",
      "4 7 2 9 6 3 1 "
     ]
    }
   ],
   "source": [
    "# Recrusive Depth First Search             TC = O(n)    SC = O(n)\n",
    "def invertTree(root: Optional[TreeNode]) -> Optional[TreeNode]:\n",
    "    if not root:\n",
    "        return None\n",
    "    root.left, root.right = root.right, root.left\n",
    "    invertTree(root.left)\n",
    "    invertTree(root.right)\n",
    "    return root\n",
    "\n",
    "values = [4, 2, 7, 1, 3, 6, 9]\n",
    "root = create_tree(values)\n",
    "print(\"Original Tree (Level-order):\")\n",
    "print_tree(root)\n",
    "inverted_root = invertTree(root)     # Invert the tree using BFS\n",
    "print(\"\\nInverted Tree (Level-order):\")\n",
    "print_tree(inverted_root)"
   ]
  },
  {
   "cell_type": "markdown",
   "metadata": {},
   "source": [
    "104. Maximum Depth of Binary Tree\n"
   ]
  },
  {
   "cell_type": "markdown",
   "metadata": {},
   "source": [
    "Given the root of a binary tree, return its maximum depth.\n",
    "\n",
    "A binary tree's maximum depth is the number of nodes along the longest path from the root node down to the farthest leaf node."
   ]
  },
  {
   "cell_type": "code",
   "execution_count": 58,
   "metadata": {},
   "outputs": [
    {
     "data": {
      "text/plain": [
       "3"
      ]
     },
     "execution_count": 58,
     "metadata": {},
     "output_type": "execute_result"
    }
   ],
   "source": [
    "# Recursive DFS    TC = O(n)    SC = O(n)\n",
    "def maxDepth(root: Optional[TreeNode]) -> int:\n",
    "    if not root:\n",
    "        return 0\n",
    "    return 1 + max(maxDepth(root.left), maxDepth(root.right))\n",
    "\n",
    "values = [3,9,20,None,None,15,7]\n",
    "root = create_tree(values)\n",
    "maxDepth(root)     "
   ]
  },
  {
   "cell_type": "code",
   "execution_count": 61,
   "metadata": {},
   "outputs": [
    {
     "data": {
      "text/plain": [
       "3"
      ]
     },
     "execution_count": 61,
     "metadata": {},
     "output_type": "execute_result"
    }
   ],
   "source": [
    "# Iterative DFS (Stack)    TC = O(n)    SC = O(n)\n",
    "def maxDepth(root: Optional[TreeNode]) -> int:\n",
    "    stack = [[root, 1]]\n",
    "    res = 0\n",
    "\n",
    "    while stack:\n",
    "        node, depth = stack.pop()\n",
    "\n",
    "        if node:\n",
    "            res = max(res, depth)\n",
    "            stack.append([node.left, depth + 1])\n",
    "            stack.append([node.right, depth + 1])\n",
    "    return res\n",
    "\n",
    "values = [3,9,20,None,None,15,7]\n",
    "root = create_tree(values)\n",
    "maxDepth(root) "
   ]
  },
  {
   "cell_type": "code",
   "execution_count": 62,
   "metadata": {},
   "outputs": [
    {
     "data": {
      "text/plain": [
       "3"
      ]
     },
     "execution_count": 62,
     "metadata": {},
     "output_type": "execute_result"
    }
   ],
   "source": [
    "# Iterative BFS (Queues)    TC = O(n)    SC = O(n)\n",
    "def maxDepth(root: Optional[TreeNode]) -> int:\n",
    "    q = deque()\n",
    "    if root:\n",
    "        q.append(root)\n",
    "\n",
    "    level = 0\n",
    "    while q:\n",
    "        for i in range(len(q)):\n",
    "            node = q.popleft()\n",
    "            if node.left:\n",
    "                q.append(node.left)\n",
    "            if node.right:\n",
    "                q.append(node.right)\n",
    "        level += 1\n",
    "    return level\n",
    "\n",
    "values = [3,9,20,None,None,15,7]\n",
    "root = create_tree(values)\n",
    "maxDepth(root) "
   ]
  },
  {
   "cell_type": "markdown",
   "metadata": {},
   "source": [
    "100. Same Tree"
   ]
  },
  {
   "cell_type": "markdown",
   "metadata": {},
   "source": [
    "Given the roots of two binary trees p and q, write a function to check if they are the same or not.\n",
    "\n",
    "Two binary trees are considered the same if they are structurally identical, and the nodes have the same value."
   ]
  },
  {
   "cell_type": "markdown",
   "metadata": {},
   "source": [
    "98. Validate Binary Search Tree\n"
   ]
  },
  {
   "cell_type": "code",
   "execution_count": 67,
   "metadata": {},
   "outputs": [
    {
     "data": {
      "text/plain": [
       "True"
      ]
     },
     "execution_count": 67,
     "metadata": {},
     "output_type": "execute_result"
    }
   ],
   "source": [
    "# DFS    TC = O(n)    SC = O(n)\n",
    "def isSameTree(p: Optional[TreeNode], q: Optional[TreeNode]) -> bool:\n",
    "    if not p and not q:\n",
    "        return True\n",
    "    if p and q and p.val == q.val:\n",
    "        return isSameTree(p.left, q.left) and isSameTree(p.right, q.right)\n",
    "    else:\n",
    "        return False\n",
    "\n",
    "pval = [1,2,3]\n",
    "qval = [1,2,3]\n",
    "p = create_tree(pval)\n",
    "q = create_tree(qval)\n",
    "isSameTree(p, q) "
   ]
  },
  {
   "cell_type": "code",
   "execution_count": 66,
   "metadata": {},
   "outputs": [
    {
     "data": {
      "text/plain": [
       "True"
      ]
     },
     "execution_count": 66,
     "metadata": {},
     "output_type": "execute_result"
    }
   ],
   "source": [
    "# BFS (Queues)    TC = O(n)    SC = O(n)\n",
    "def isSameTree(p: Optional[TreeNode], q: Optional[TreeNode]) -> bool:\n",
    "    q1 = deque([p])\n",
    "    q2 = deque([q])\n",
    "\n",
    "    while q1 and q2:\n",
    "        nodeP = q1.popleft()\n",
    "        nodeQ = q2.popleft()\n",
    "\n",
    "        if nodeP is None and nodeQ is None:\n",
    "            continue\n",
    "        if nodeP is None or nodeQ is None or nodeP.val != nodeQ.val:\n",
    "            return False\n",
    "\n",
    "        q1.append(nodeP.left)\n",
    "        q1.append(nodeP.right)\n",
    "        q2.append(nodeQ.left)\n",
    "        q2.append(nodeQ.right)\n",
    "\n",
    "    return True\n",
    "\n",
    "pval = [1,2,3]\n",
    "qval = [1,2,3]\n",
    "p = create_tree(pval)\n",
    "q = create_tree(qval)\n",
    "isSameTree(p, q) "
   ]
  },
  {
   "cell_type": "markdown",
   "metadata": {},
   "source": [
    "102. Binary Tree Level Order Traversal\n"
   ]
  },
  {
   "cell_type": "markdown",
   "metadata": {},
   "source": [
    "235. Lowest Common Ancestor of a BST\n"
   ]
  },
  {
   "cell_type": "markdown",
   "metadata": {},
   "source": [
    "108. Convert Sorted Array to Binary Search Tree\n"
   ]
  },
  {
   "cell_type": "markdown",
   "metadata": {},
   "source": [
    "101. Symmetric Tree\n"
   ]
  },
  {
   "cell_type": "markdown",
   "metadata": {},
   "source": [
    "94. Binary Tree Inorder Traversal\n"
   ]
  },
  {
   "cell_type": "markdown",
   "metadata": {},
   "source": [
    "112. Path Sum\n"
   ]
  },
  {
   "cell_type": "markdown",
   "metadata": {},
   "source": [
    "543. Diameter of Binary Tree\n"
   ]
  },
  {
   "cell_type": "markdown",
   "metadata": {},
   "source": [
    "230. Kth Smallest Element in a BST\n"
   ]
  },
  {
   "cell_type": "markdown",
   "metadata": {},
   "source": [
    "110. Balanced Binary Tree"
   ]
  },
  {
   "cell_type": "markdown",
   "metadata": {},
   "source": [
    "### Dynamic Programming "
   ]
  },
  {
   "cell_type": "markdown",
   "metadata": {},
   "source": [
    "70. Climbing Stairs"
   ]
  },
  {
   "cell_type": "markdown",
   "metadata": {},
   "source": [
    "5. Longest Palindromic Substring"
   ]
  },
  {
   "cell_type": "markdown",
   "metadata": {},
   "source": [
    "322. Coin Change"
   ]
  },
  {
   "cell_type": "markdown",
   "metadata": {},
   "source": [
    "139. Word Break"
   ]
  },
  {
   "cell_type": "markdown",
   "metadata": {},
   "source": [
    "300. Longest Increasing Subsequence"
   ]
  },
  {
   "cell_type": "markdown",
   "metadata": {},
   "source": [
    "198. House Robber"
   ]
  },
  {
   "cell_type": "markdown",
   "metadata": {},
   "source": [
    "213. House Robber II"
   ]
  },
  {
   "cell_type": "markdown",
   "metadata": {},
   "source": [
    "131. Palindrome Partitioning"
   ]
  },
  {
   "cell_type": "markdown",
   "metadata": {},
   "source": [
    "72. Edit Distance"
   ]
  },
  {
   "cell_type": "markdown",
   "metadata": {},
   "source": [
    "152. Maximum Product Subarray"
   ]
  },
  {
   "cell_type": "code",
   "execution_count": 44,
   "metadata": {},
   "outputs": [],
   "source": [
    "# Fibonacci Numbers\n",
    "# Subset Sum\n",
    "# Matrix Chain Multiplication\n",
    "# 0/1 Knapsack\n",
    "# Climbing Stairs\n",
    "# Longest Increasing Subsequence LIS\n",
    "# Coin Change\n",
    "# Partition Equal Subset Sum\n",
    "# Burst Balloons\n",
    "# Longest Common Subsequence LCS"
   ]
  },
  {
   "cell_type": "code",
   "execution_count": null,
   "metadata": {},
   "outputs": [],
   "source": [
    "def maxProdSubarray(nums):\n",
    "    res = max(nums)\n",
    "    curr_min, curr_max = 1,1\n",
    "    for n in nums:\n",
    "        tmp = curr_max * n\n",
    "        curr_max = max(n*curr_max, n*curr_min, n)\n",
    "        curr_min = min(tmp, n*curr_min, n)\n",
    "        res = max(res, curr_max)\n",
    "    return res\n",
    "\n",
    "nums = [2,3,-2, 4]\n",
    "result = maxProdSubarray(nums)\n",
    "print(result)"
   ]
  },
  {
   "cell_type": "markdown",
   "metadata": {},
   "source": [
    "416. Partition Equal Subset Sum"
   ]
  },
  {
   "cell_type": "markdown",
   "metadata": {},
   "source": [
    "62. Unique Paths"
   ]
  },
  {
   "cell_type": "markdown",
   "metadata": {},
   "source": [
    "53. Maximum Subarray"
   ]
  },
  {
   "cell_type": "code",
   "execution_count": null,
   "metadata": {},
   "outputs": [],
   "source": [
    "# Sliding Window\n",
    "def maxSubArray(nums):\n",
    "    max_subarray_sum = nums[0]\n",
    "    cur_subarray_sum = 0\n",
    "    for i in nums:\n",
    "        if cur_subarray_sum < 0: # if current sum is less than zero then reset it back to zero\n",
    "            cur_subarray_sum = 0\n",
    "        cur_subarray_sum = cur_subarray_sum + i\n",
    "        max_subarray_sum = max(max_subarray_sum, cur_subarray_sum)\n",
    "    return max_subarray_sum\n",
    "\n",
    "nums = [-2, 1, -3, 4, -1, 2, 1, -5, 4]\n",
    "result = maxSubArray(nums)\n",
    "print(result)\n",
    "\n",
    "# Time Complexisty = O(n), Space Complexity = O(1)"
   ]
  },
  {
   "cell_type": "markdown",
   "metadata": {},
   "source": [
    "55. Jump Game"
   ]
  },
  {
   "cell_type": "markdown",
   "metadata": {},
   "source": [
    "### Graphs"
   ]
  },
  {
   "cell_type": "markdown",
   "metadata": {},
   "source": [
    "200. Number of Islands"
   ]
  },
  {
   "cell_type": "markdown",
   "metadata": {},
   "source": [
    "133. Clone Graph"
   ]
  },
  {
   "cell_type": "markdown",
   "metadata": {},
   "source": [
    "207. Course Schedule"
   ]
  },
  {
   "cell_type": "markdown",
   "metadata": {},
   "source": [
    "417. Pacific Atlantic Water Flow"
   ]
  },
  {
   "cell_type": "markdown",
   "metadata": {},
   "source": [
    "695. Max Area of Island"
   ]
  },
  {
   "cell_type": "markdown",
   "metadata": {},
   "source": [
    "127. Word Ladder"
   ]
  },
  {
   "cell_type": "markdown",
   "metadata": {},
   "source": [
    "1091. Shortest Path in Binary Matrix"
   ]
  },
  {
   "cell_type": "markdown",
   "metadata": {},
   "source": [
    "130. Surrounded Regions"
   ]
  },
  {
   "cell_type": "markdown",
   "metadata": {},
   "source": [
    "261. Graph Valid Tree"
   ]
  },
  {
   "cell_type": "markdown",
   "metadata": {},
   "source": [
    "### Intervals "
   ]
  },
  {
   "cell_type": "markdown",
   "metadata": {},
   "source": [
    "56. Merge Intervals"
   ]
  },
  {
   "cell_type": "markdown",
   "metadata": {},
   "source": [
    "57. Insert Interval"
   ]
  },
  {
   "cell_type": "markdown",
   "metadata": {},
   "source": [
    "435. Non-overlapping Intervals"
   ]
  },
  {
   "cell_type": "markdown",
   "metadata": {},
   "source": [
    "252. Meeting Rooms"
   ]
  },
  {
   "cell_type": "markdown",
   "metadata": {},
   "source": [
    "253. Meeting Rooms II"
   ]
  },
  {
   "cell_type": "markdown",
   "metadata": {},
   "source": [
    "### Backtracking"
   ]
  },
  {
   "cell_type": "markdown",
   "metadata": {},
   "source": [
    "78. Subsets"
   ]
  },
  {
   "cell_type": "markdown",
   "metadata": {},
   "source": [
    "39. Combination Sum"
   ]
  },
  {
   "cell_type": "markdown",
   "metadata": {},
   "source": [
    "79. Word Search"
   ]
  },
  {
   "cell_type": "markdown",
   "metadata": {},
   "source": [
    "22. Generate Parentheses"
   ]
  },
  {
   "cell_type": "markdown",
   "metadata": {},
   "source": [
    "46. Permutations"
   ]
  },
  {
   "cell_type": "markdown",
   "metadata": {},
   "source": [
    "17. Letter Combinations of a Phone Number"
   ]
  },
  {
   "cell_type": "code",
   "execution_count": null,
   "metadata": {},
   "outputs": [],
   "source": [
    "# Permutations \n",
    "# Subsets\n",
    "# N-Queens"
   ]
  },
  {
   "cell_type": "markdown",
   "metadata": {},
   "source": [
    "### Patterns"
   ]
  },
  {
   "cell_type": "markdown",
   "metadata": {},
   "source": [
    "##### 1.PrefixSum"
   ]
  },
  {
   "cell_type": "markdown",
   "metadata": {},
   "source": [
    "Sum of elements in a subarray"
   ]
  },
  {
   "cell_type": "markdown",
   "metadata": {},
   "source": [
    "Range Sum Query - Immutable"
   ]
  },
  {
   "cell_type": "markdown",
   "metadata": {},
   "source": [
    "Contiguous Array"
   ]
  },
  {
   "cell_type": "markdown",
   "metadata": {},
   "source": [
    "Subarray Sum Equals K"
   ]
  },
  {
   "cell_type": "code",
   "execution_count": null,
   "metadata": {},
   "outputs": [],
   "source": [
    "def no_prefix_sum_array(arr, i, j):\n",
    "    counter = 0\n",
    "    for k in range(i, j+1):\n",
    "        counter += arr[k]\n",
    "    return counter \n",
    "\n",
    "arr=[0,1,2,3,4]\n",
    "result = no_prefix_sum_array(arr, 1, 4)\n",
    "result1 = no_prefix_sum_array(arr, 1, 3)\n",
    "print(result)\n",
    "print(result1)  "
   ]
  },
  {
   "cell_type": "code",
   "execution_count": null,
   "metadata": {},
   "outputs": [],
   "source": [
    "def build_prefix_sum_array(arr):\n",
    "    prefix_sum_arr = [0] * len(arr) # Initialize the prefix sum array with the same length as nums\n",
    "    prefix_sum_arr[0] = arr[0] # Compute the prefix sums\n",
    "    for i in range(1, len(arr)):\n",
    "        prefix_sum_arr[i] = prefix_sum_arr[i - 1] + arr[i]\n",
    "    return prefix_sum_arr\n",
    "\n",
    "def range_sum(prefix_sum_arr, i, j):\n",
    "    if i == 0: # Compute the sum of elements from index i to j using the prefix sum array\n",
    "        return prefix_sum_arr[j]\n",
    "    return prefix_sum_arr[j] - prefix_sum_arr[i - 1]\n",
    "\n",
    "arr=[0,1,2,3,4]\n",
    "prefix_sum_arr = build_prefix_sum_array(arr)\n",
    "result = range_sum(prefix_sum_arr, 1, 4)\n",
    "result1 = range_sum(prefix_sum_arr, 1, 3)\n",
    "print(arr)\n",
    "print(prefix_sum_arr)\n",
    "print(result)\n",
    "print(result1)  "
   ]
  },
  {
   "cell_type": "markdown",
   "metadata": {},
   "source": [
    "##### 3.SlidingWindow "
   ]
  },
  {
   "cell_type": "code",
   "execution_count": null,
   "metadata": {},
   "outputs": [],
   "source": [
    "# Helps to find subarrays or substrings with certain criteria\n",
    "# Order O(n * k) to O(n)\n",
    "# (Use this instead of 2 pointers which is N2), Sliding WIndow is N"
   ]
  },
  {
   "cell_type": "code",
   "execution_count": null,
   "metadata": {},
   "outputs": [],
   "source": [
    "# Find subarray of size k with maximum sum\n",
    "# Can be done in one pass (Take the 3 items and minus the just before item from the value)\n",
    "\n",
    "def max_subarray_sum(arr, k):\n",
    "    n = len(arr)\n",
    "    window_sum = sum(arr[:k])\n",
    "    max_sum = window_sum\n",
    "    max_start_index = 0\n",
    "    for i in range(n-k):\n",
    "        window_sum = window_sum - arr[i] + arr[i+k]\n",
    "        if window_sum > max_sum:\n",
    "            max_sum = window_sum\n",
    "            max_start_index = i+1\n",
    "    return arr[max_start_index:max_start_index + k], max_sum\n",
    "\n",
    "arr = [1,2,3,4,5,6]\n",
    "k = 3\n",
    "result = max_subarray_sum(arr, k)\n",
    "print(result)"
   ]
  },
  {
   "cell_type": "code",
   "execution_count": null,
   "metadata": {},
   "outputs": [],
   "source": [
    "# Maximum Average Subarray 1"
   ]
  },
  {
   "cell_type": "code",
   "execution_count": null,
   "metadata": {},
   "outputs": [],
   "source": [
    "# Longest Substring Without Repeating Character"
   ]
  },
  {
   "cell_type": "code",
   "execution_count": null,
   "metadata": {},
   "outputs": [],
   "source": [
    "# Minimum Window Substring"
   ]
  },
  {
   "cell_type": "markdown",
   "metadata": {},
   "source": [
    "##### 4.FastAndSlowPointers"
   ]
  },
  {
   "cell_type": "code",
   "execution_count": null,
   "metadata": {},
   "outputs": [],
   "source": [
    "# Linked List Cycle"
   ]
  },
  {
   "cell_type": "code",
   "execution_count": null,
   "metadata": {},
   "outputs": [],
   "source": [
    "# Happy Number"
   ]
  },
  {
   "cell_type": "code",
   "execution_count": null,
   "metadata": {},
   "outputs": [],
   "source": [
    "# Find the Duplicate Number"
   ]
  },
  {
   "cell_type": "markdown",
   "metadata": {},
   "source": [
    "##### 6.MonotonicStack"
   ]
  },
  {
   "cell_type": "code",
   "execution_count": null,
   "metadata": {},
   "outputs": [],
   "source": [
    "# This pattern Uses Stack to find next smallers or biggest element in an array"
   ]
  },
  {
   "cell_type": "code",
   "execution_count": null,
   "metadata": {},
   "outputs": [],
   "source": [
    "# Given an array, find the next greater element for each item. If there isn't one, output -1"
   ]
  },
  {
   "cell_type": "code",
   "execution_count": null,
   "metadata": {},
   "outputs": [],
   "source": [
    "# Next Greater Element 1"
   ]
  },
  {
   "cell_type": "code",
   "execution_count": null,
   "metadata": {},
   "outputs": [],
   "source": [
    "# Daily Temperature"
   ]
  },
  {
   "cell_type": "code",
   "execution_count": null,
   "metadata": {},
   "outputs": [],
   "source": [
    "# Largest Rectangle in Histogram"
   ]
  },
  {
   "cell_type": "markdown",
   "metadata": {},
   "source": [
    "##### 7.TopKElements"
   ]
  },
  {
   "cell_type": "code",
   "execution_count": null,
   "metadata": {},
   "outputs": [],
   "source": [
    "# Kth Largest Element in an Array"
   ]
  },
  {
   "cell_type": "code",
   "execution_count": null,
   "metadata": {},
   "outputs": [],
   "source": [
    "# Top K Frequent Elements"
   ]
  },
  {
   "cell_type": "code",
   "execution_count": null,
   "metadata": {},
   "outputs": [],
   "source": [
    "# Find K Pairs with Smallest Sum"
   ]
  },
  {
   "cell_type": "markdown",
   "metadata": {},
   "source": [
    "##### 8.OverlappingIntervals"
   ]
  },
  {
   "cell_type": "code",
   "execution_count": null,
   "metadata": {},
   "outputs": [],
   "source": [
    "# Merge Intervals"
   ]
  },
  {
   "cell_type": "code",
   "execution_count": null,
   "metadata": {},
   "outputs": [],
   "source": [
    "# Insert Interval"
   ]
  },
  {
   "cell_type": "code",
   "execution_count": null,
   "metadata": {},
   "outputs": [],
   "source": [
    "# Non-overlapping Intervals"
   ]
  },
  {
   "cell_type": "markdown",
   "metadata": {},
   "source": [
    "##### 10.BinaryTreeTraversal"
   ]
  },
  {
   "cell_type": "code",
   "execution_count": null,
   "metadata": {},
   "outputs": [],
   "source": [
    "# Whenever a tree problem is given, find which Order is good for it \n",
    "# This is travesing the Binary Tree in Specific Order\n",
    "# PreOrder (root, left, right), Use to create a copy of a tree (serialization)\n",
    "# InOrder (left, root, right), Use to retrieve the values of binary search tree in sorted order\n",
    "# PostOrder (left, right, root), Use when you want to process the child nodes before the parent\n",
    "# InOrder (level by level), Use to explore all nodes at current level before next"
   ]
  },
  {
   "cell_type": "code",
   "execution_count": null,
   "metadata": {},
   "outputs": [],
   "source": [
    "# Binary Tree Paths"
   ]
  },
  {
   "cell_type": "code",
   "execution_count": null,
   "metadata": {},
   "outputs": [],
   "source": [
    "# Kth Smallest Element in a BST"
   ]
  },
  {
   "cell_type": "code",
   "execution_count": null,
   "metadata": {},
   "outputs": [],
   "source": [
    "# Binary Tree Maximum Path Sum"
   ]
  },
  {
   "cell_type": "code",
   "execution_count": null,
   "metadata": {},
   "outputs": [],
   "source": [
    "# Binary Tree Level Order Traversal II"
   ]
  },
  {
   "cell_type": "markdown",
   "metadata": {},
   "source": [
    "##### 11.DepthFirstSearch"
   ]
  },
  {
   "cell_type": "code",
   "execution_count": null,
   "metadata": {},
   "outputs": [],
   "source": [
    "# Used to explore all paths or branches in Graphs/Trees to solve problems like\n",
    "# Finding a path b/w two nodes\n",
    "# Checking if a graph contains cycle\n",
    "# Finding a topological order in a DAG\n",
    "# Counting number of connected components in a graph"
   ]
  },
  {
   "cell_type": "code",
   "execution_count": null,
   "metadata": {},
   "outputs": [],
   "source": [
    "# Clone Graph"
   ]
  },
  {
   "cell_type": "code",
   "execution_count": null,
   "metadata": {},
   "outputs": [],
   "source": [
    "# Path Sum II"
   ]
  },
  {
   "cell_type": "code",
   "execution_count": null,
   "metadata": {},
   "outputs": [],
   "source": [
    "# Course Schedule II"
   ]
  },
  {
   "cell_type": "markdown",
   "metadata": {},
   "source": [
    "##### 12.BreadthFirstSearch"
   ]
  },
  {
   "cell_type": "code",
   "execution_count": null,
   "metadata": {},
   "outputs": [],
   "source": [
    "# Level by Level traversal\n",
    "# Finding a shortest path b/w two nodes\n",
    "# Printing all nodes of a tree level by level\n",
    "# Finding all connected components in a graph\n",
    "# Finding the shortest transformation sequence from one word to other"
   ]
  },
  {
   "cell_type": "code",
   "execution_count": null,
   "metadata": {},
   "outputs": [],
   "source": [
    "# Binary Tree Level Order Traversal"
   ]
  },
  {
   "cell_type": "code",
   "execution_count": null,
   "metadata": {},
   "outputs": [],
   "source": [
    "# Rotting Oranges"
   ]
  },
  {
   "cell_type": "code",
   "execution_count": null,
   "metadata": {},
   "outputs": [],
   "source": [
    "# Word Ladder"
   ]
  },
  {
   "cell_type": "markdown",
   "metadata": {},
   "source": [
    "##### 13.MatrixTraversal"
   ]
  },
  {
   "cell_type": "code",
   "execution_count": null,
   "metadata": {},
   "outputs": [],
   "source": [
    "# Matrix Problems (2D Array) --> Graph Problems (Nodes and Edges)\n",
    "# Can use DFS or BFS to Solve Matrix Problems"
   ]
  },
  {
   "cell_type": "code",
   "execution_count": null,
   "metadata": {},
   "outputs": [],
   "source": [
    "# Finding a shortest path in a grid\n"
   ]
  },
  {
   "cell_type": "code",
   "execution_count": null,
   "metadata": {},
   "outputs": [],
   "source": [
    "# Flood Fill"
   ]
  },
  {
   "cell_type": "code",
   "execution_count": null,
   "metadata": {},
   "outputs": [],
   "source": [
    "# Number of Islands"
   ]
  },
  {
   "cell_type": "code",
   "execution_count": null,
   "metadata": {},
   "outputs": [],
   "source": [
    "# Surrounded Regions"
   ]
  }
 ],
 "metadata": {
  "kernelspec": {
   "display_name": "Python 3",
   "language": "python",
   "name": "python3"
  },
  "language_info": {
   "codemirror_mode": {
    "name": "ipython",
    "version": 3
   },
   "file_extension": ".py",
   "mimetype": "text/x-python",
   "name": "python",
   "nbconvert_exporter": "python",
   "pygments_lexer": "ipython3",
   "version": "3.13.0"
  }
 },
 "nbformat": 4,
 "nbformat_minor": 2
}
