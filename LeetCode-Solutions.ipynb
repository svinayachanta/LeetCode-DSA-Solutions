{
 "cells": [
  {
   "cell_type": "markdown",
   "metadata": {},
   "source": [
    "Patterns\n",
    "* **Prefix Sum**\n",
    "  - Sum of Elements in a Subarray in constant time\n",
    "\n",
    "* **Two Pointers**\n",
    "  - Two pointers move toward or away each other\n",
    "\n",
    "* **Sliding Window** \n",
    "  - Find subarrays or substring with specific criteria\n",
    "  - Take a window and iterate it supbstracting the left most element\n",
    "  - By this we can use single loop to iterate through the array \n",
    "\n",
    "* **Fast and Slow Pointers**\n",
    "  -  Two pointers move toward or away each other, with same of different speeds\n",
    "  - Works with LL or Arrays involves finding cycles or middle element in one pass\n",
    "\n",
    "* **Linked List In-Place Reversal**\n",
    "  - Rearrage the links between nodes of LL \n",
    "  - Swapping nodes in pairs without using extra space - use 3 pointers null previous and next\n",
    "\n",
    "* **Monotonic Stack**\n",
    "  - Use to find next greater or next smaller element in an array\n",
    "  - For this Avoid sorting (nlogn) and use Min-Heap (KLargest Element), Max-Heap (KSmallestElement) \n",
    "\n",
    "* **Top K Elements** \n",
    "  - Use the find the K Largest, K Smallest, and K Most Frequent Element\n",
    "\n",
    "* **Overlapping Intervals**\n",
    "  - Use for problems involving Intervals or Ranges that may overlap - Merging Intervals, Interval Intersection, Insert Interval\n",
    "  - Problems involving finding minumum meeting rooms for overlapping meeting times\n",
    "\n",
    "* **Modified Binary Search**\n",
    "  - Varient of Normal Binary Search Algo\n",
    "  - Use to solve the problem where the array is not perfectly sorted\n",
    "  - Searching in a Nearly Sorted Array\n",
    "  - Searching in a Rotated Sorted Array\n",
    "  - Searching in a List with Unknown Length\n",
    "  - Searching in an Array with Duplicates\n",
    "  - Finding the First or Last Occurrences of an Element\n",
    "  - Finding the Square Root of a Number\n",
    "  - Finding a Peak Element\n",
    "\n",
    "* **Binary Tree Traversal** \n",
    "  - Binary Trees are all about traversing it in specific order\n",
    "  - Orders like (PreOrder, InOrder, PostOrder) Implementing is Easy with Reccursion, (LevelOrder) Easy with Queue\n",
    "  - Iterative version is bit more complex and need to use stack\n",
    "  - InOrder (Use to retrive the values of BST in sorted order)\n",
    "  - PreOrder (Use to create a copy of a tree [serialization])\n",
    "  - PostOrder (Use when you want to process child nodes before the parent)\n",
    "  - LevelOrder (Use when you need to explore all nodes at current level before next)\n",
    "  \n",
    "* **Depth First Search**\n",
    "  - Used to explore all paths or branches in graphs or trees to solve problems\n",
    "  - DFS can be implemented recursively or iteratively using stack\n",
    "  - Finding a path between two nodes\n",
    "  - Checking if a graph contains a cycle\n",
    "  - Finding a topological order in a directed acyclic graph (DAG)\n",
    "  - Counting number of connected components in a graph\n",
    "  - Approach \n",
    "      - Choose a starting point,\n",
    "      - Keep track of visited nodes, to avoid cycles, \n",
    "      - Perform required operation on current node, \n",
    "      - Explore unvisited neighbours, \n",
    "      - Continue until all the nodes are visited\n",
    "\n",
    "* **Breadth First Search**\n",
    "  - Traversal technique to explore nodes level by level in a tree or graph\n",
    "  - BFS can be implemented using queue\n",
    "  - Finding a shortest path between two nodes\n",
    "  - Printing all nodes of tree level by level\n",
    "  - Finding all connected components in a graph\n",
    "  - Finding the shortest trandormation sequence from one word to another\n",
    "  - Approach \n",
    "      - Add the starting node to the queue,\n",
    "      - Setup visited set, to track processed node\n",
    "      - Continue while the queue is not empty\n",
    "      - Dequeue a node and process it \n",
    "      - Enqueue unvisited neighbors \n",
    "      - Add processed nodes to visited set\n",
    "      - Continue until the queue is empty\n",
    "\n",
    "* **Matrix Traversals (Graph Problems)**\n",
    "  - Graphs has nodes and edges, matrix usually is a 2D array where nodes are the cells where you can reach to adjecent cells horizontally, vertically or diognally depending on problem\n",
    "  - Mostly you can use BFS or DFS to solve matrix or graph problems\n",
    "  - Finding a shortest path in a grid\n",
    "\n",
    "* **Backtracking**\n",
    "  - Used to solve problems that involve exploring all potential solution paths and backtracking paths that do not lead to a valid solution\n",
    "  - Generate all permutations or combinations of a given set of elements\n",
    "  - Puzzles like sudoko or N-queens problem\n",
    "  - Find all possible paths from start to end in a graph or a maze\n",
    "  - Generated all valid parantheisi of a given length\n",
    "  - Generate all possible subsets\n",
    "\n",
    "* **Dynamic Programming**\n",
    "  - Solving optmization problems by breaking them down into smaller sub-problems and storing their solutions to avoid repetitive work\n",
    "  - Useful for probelms like Overlapping subprobelms, optimal substructure\n",
    "  - Problmes where you need to maximize or minimize a certain value\n",
    "  - Problems where you need to count the number of ways to acheive a certain goal\n",
    "  - Common DP Patterns\n",
    "    - Fibonacci Numbers\n",
    "    - 0/1 Knapsack\n",
    "    - Longest Common Subsequence (LCS)\n",
    "    - Longest Increasing Subsequence (LIS)\n",
    "    - Subset Sum\n",
    "    - Matrix Chain Multiplication\n",
    "\n",
    "* **Bit Manipulation** "
   ]
  },
  {
   "cell_type": "markdown",
   "metadata": {},
   "source": [
    "* Array (Sliding Window, Two Pointers, Binary Search)\n",
    "* Linked List (Reversal, Merging, Cycles)\n",
    "* Trees (BFS, DFS, HEAP/Queues)\n",
    "* Heaps and Priority Queues (HEAP Operations, Min/Max Elements)\n",
    "* Backtracking (Sorting Searching)\n",
    "* Dynamic Programming (Memorization-Top Down, Tabulation - Bottom Up)\n",
    "* Graphs (BFS, DFS)\n",
    "* BIT Manipulations (XOR Operations, Single Number, BIT Counting)"
   ]
  },
  {
   "cell_type": "markdown",
   "metadata": {},
   "source": [
    "### Array & Hashing"
   ]
  },
  {
   "cell_type": "markdown",
   "metadata": {},
   "source": [
    "1. Two Sum"
   ]
  },
  {
   "cell_type": "markdown",
   "metadata": {},
   "source": [
    "Given an array of integers nums and an integer target, return indices of the two numbers such that they add up to target."
   ]
  },
  {
   "cell_type": "code",
   "execution_count": 8,
   "metadata": {},
   "outputs": [
    {
     "name": "stdout",
     "output_type": "stream",
     "text": [
      "[0, 3]\n"
     ]
    }
   ],
   "source": [
    "# Brute Force      TC = O(n^2), SC = O(1)\n",
    "from typing import List\n",
    "\n",
    "def twoSum(nums: List[int], target: int) -> List[int]:\n",
    "    for i in range(0, len(nums)):\n",
    "        for j in range(i + 1, len(nums)):\n",
    "            if nums[i] + nums[j] == target:\n",
    "                return [i, j]\n",
    "                \n",
    "nums = [2,7,11,15]\n",
    "target = 17\n",
    "print(twoSum(nums, target))"
   ]
  },
  {
   "cell_type": "code",
   "execution_count": 27,
   "metadata": {},
   "outputs": [
    {
     "name": "stdout",
     "output_type": "stream",
     "text": [
      "[0, 3]\n"
     ]
    }
   ],
   "source": [
    "# HashMap        TC = O(n), SC = O(n)\n",
    "def twoSum(nums: List[int], target: int) -> List[int]:\n",
    "    hashmap = {}\n",
    "    for index,value in enumerate(nums):\n",
    "        diff = target - value\n",
    "        if diff in hashmap:\n",
    "            return [hashmap[diff], index]\n",
    "        else:\n",
    "            hashmap[value] = index\n",
    "\n",
    "nums = [2,7,11,15]\n",
    "target = 17\n",
    "print(twoSum(nums, target))"
   ]
  },
  {
   "cell_type": "markdown",
   "metadata": {},
   "source": [
    "217. Contains Duplicate"
   ]
  },
  {
   "cell_type": "markdown",
   "metadata": {},
   "source": [
    "Given an integer array nums, return true if any value appears at least twice in the array, and return false if every element is distinct."
   ]
  },
  {
   "cell_type": "code",
   "execution_count": 16,
   "metadata": {},
   "outputs": [
    {
     "name": "stdout",
     "output_type": "stream",
     "text": [
      "False\n"
     ]
    }
   ],
   "source": [
    "# Brute Force = TC = O(n^2), SC = O(1)\n",
    "def containsDuplicate(nums: List[int]) -> bool:\n",
    "    for i in range(len(nums)):\n",
    "        for j in range(i+1, len(nums)):\n",
    "            if nums[i] == nums[j]:\n",
    "                return True\n",
    "    return False\n",
    "    \n",
    "nums = [1,2,3,4]\n",
    "print(containsDuplicate(nums))"
   ]
  },
  {
   "cell_type": "code",
   "execution_count": 29,
   "metadata": {},
   "outputs": [
    {
     "name": "stdout",
     "output_type": "stream",
     "text": [
      "True\n"
     ]
    }
   ],
   "source": [
    "# HashMap = Time Complexity = O(n), Space Complexity = O(n)\n",
    "def containsDuplicate(nums: List[int]) -> bool:\n",
    "    hashmap = {}\n",
    "    for index, value in enumerate(nums):\n",
    "        if nums[index] in hashmap:\n",
    "            return True\n",
    "        else:\n",
    "            hashmap[value] = index\n",
    "    return False\n",
    "    \n",
    "nums = [1,2,3,4,1]\n",
    "print(containsDuplicate(nums))"
   ]
  },
  {
   "cell_type": "code",
   "execution_count": 49,
   "metadata": {},
   "outputs": [
    {
     "name": "stdout",
     "output_type": "stream",
     "text": [
      "True\n"
     ]
    }
   ],
   "source": [
    "# If array is sorted:       TC = O(n), SC = O(n)\n",
    "def containsDuplicate(nums: List[int]) -> bool:\n",
    "    for i in range(len(nums)-1):\n",
    "        if nums[i] == nums[i+1]:\n",
    "            return True\n",
    "    return False\n",
    "\n",
    "nums = [1,2,2,3,4,1]\n",
    "print(containsDuplicate(nums))"
   ]
  },
  {
   "cell_type": "markdown",
   "metadata": {},
   "source": [
    "242. Valid Anagram"
   ]
  },
  {
   "cell_type": "markdown",
   "metadata": {},
   "source": [
    "Given two strings s and t, return true if t is an \n",
    "anagram\n",
    " of s, and false otherwise."
   ]
  },
  {
   "cell_type": "code",
   "execution_count": 64,
   "metadata": {},
   "outputs": [
    {
     "name": "stdout",
     "output_type": "stream",
     "text": [
      "True\n"
     ]
    }
   ],
   "source": [
    "# Hashmaps - get() function         TC = O(n), SC = O(n)\n",
    "def isAnagram(s: str, t: str) -> bool:\n",
    "    if len(s) != len(t):\n",
    "        return False\n",
    "    hashmap_s, hashmap_t = {}, {}\n",
    "    for i in s:\n",
    "        hashmap_s[i] = hashmap_s.get(i,0) + 1 # adds and sets i value 0 if i doesnt exists in hashmap\n",
    "    for i in t:\n",
    "        hashmap_t[i] = hashmap_t.get(i,0) + 1\n",
    "    return hashmap_s == hashmap_t\n",
    "\n",
    "s = \"viniv\"\n",
    "t = \"vinvi\"\n",
    "print(isAnagram(s, t))"
   ]
  },
  {
   "cell_type": "code",
   "execution_count": 35,
   "metadata": {},
   "outputs": [
    {
     "name": "stdout",
     "output_type": "stream",
     "text": [
      "True\n"
     ]
    }
   ],
   "source": [
    "# Hashmaps - without get() functions          TC = O(n), SC = O(n)\n",
    "def isAnagram(s: str, t: str) -> bool:\n",
    "    if len(s) != len(t):\n",
    "        return False\n",
    "    hashmap_s, hashmap_t = {}, {}\n",
    "    for i in s:\n",
    "        if i in hashmap_s:\n",
    "            hashmap_s[i] += 1\n",
    "        else:\n",
    "            hashmap_s[i] = 1\n",
    "    for i in t:\n",
    "        if i in hashmap_t:\n",
    "            hashmap_t[i] += 1\n",
    "        else:\n",
    "            hashmap_t[i] = 1\n",
    "    return hashmap_s == hashmap_t\n",
    "\n",
    "s = \"viniv\"\n",
    "t = \"viniv\"\n",
    "print(isAnagram(s, t))"
   ]
  },
  {
   "cell_type": "code",
   "execution_count": 31,
   "metadata": {},
   "outputs": [
    {
     "name": "stdout",
     "output_type": "stream",
     "text": [
      "False\n"
     ]
    }
   ],
   "source": [
    "# Just one Hashmaps - with get() functions        TC = O(n), SC = O(n)\n",
    "def isAnagram(s: str, t: str) -> bool:\n",
    "    if len(s) != len(t):\n",
    "        return False\n",
    "    hashmap = {}\n",
    "    for char in s:\n",
    "        hashmap[char] = hashmap.get(char, 0) + 1\n",
    "    # Loop through the second string and decrement the character count\n",
    "    for char in t:\n",
    "        if char not in hashmap or hashmap[char] == 0:\n",
    "            return False\n",
    "        hashmap[char] -= 1\n",
    "    # If all counts are zero, it's an anagram\n",
    "    return all(count == 0 for count in hashmap.values())\n",
    "\n",
    "s = \"viniv\"\n",
    "t = \"vinia\"\n",
    "print(isAnagram(s, t))"
   ]
  },
  {
   "cell_type": "code",
   "execution_count": 38,
   "metadata": {},
   "outputs": [
    {
     "name": "stdout",
     "output_type": "stream",
     "text": [
      "True\n"
     ]
    }
   ],
   "source": [
    "# Using Counter        TC = O(n), SC = O(n)\n",
    "from collections import Counter    # Counter is O(n) and Uses Dict in the background to keep tracks of counts\n",
    "def isAnagram(s: str, t: str) -> bool:\n",
    "    if len(s) != len(t):\n",
    "        return False\n",
    "    return Counter(s) == Counter(t)\n",
    "\n",
    "s = \"viniv\"\n",
    "t = \"viniv\"\n",
    "print(isAnagram(s, t))"
   ]
  },
  {
   "cell_type": "markdown",
   "metadata": {},
   "source": [
    "49. Group Anagrams"
   ]
  },
  {
   "cell_type": "markdown",
   "metadata": {},
   "source": [
    "Given an array of strings strs, group the anagrams together. You can return the answer in any order."
   ]
  },
  {
   "cell_type": "code",
   "execution_count": 16,
   "metadata": {},
   "outputs": [
    {
     "data": {
      "text/plain": [
       "[['eat', 'tea', 'ate'], ['tan', 'nat'], ['bat']]"
      ]
     },
     "execution_count": 16,
     "metadata": {},
     "output_type": "execute_result"
    }
   ],
   "source": [
    "# Sorting    TC = O(m*nlogn) SC = O(m*n)\n",
    "from collections import defaultdict\n",
    "def groupAnagrams(strs: List[str]) -> List[List[str]]:\n",
    "    res = defaultdict(list)\n",
    "    for s in strs:\n",
    "        sortedS = ''.join(sorted(s))\n",
    "        res[sortedS].append(s)\n",
    "    return list(res.values())\n",
    "    \n",
    "strs = [\"eat\",\"tea\",\"tan\",\"ate\",\"nat\",\"bat\"]\n",
    "groupAnagrams(strs)"
   ]
  },
  {
   "cell_type": "code",
   "execution_count": 19,
   "metadata": {},
   "outputs": [
    {
     "data": {
      "text/plain": [
       "[['eat', 'tea', 'ate'], ['tan', 'nat'], ['bat']]"
      ]
     },
     "execution_count": 19,
     "metadata": {},
     "output_type": "execute_result"
    }
   ],
   "source": [
    "# Hash Table     TC = O(m*n) SC = O(m)\n",
    "def groupAnagrams(strs: List[str]) -> List[List[str]]:\n",
    "    res = defaultdict(list)\n",
    "    for s in strs:\n",
    "        count = [0] * 26\n",
    "        for c in s:\n",
    "            count[ord(c) - ord('a')] += 1\n",
    "        res[tuple(count)].append(s)\n",
    "    return list(res.values())\n",
    "\n",
    "strs = [\"eat\",\"tea\",\"tan\",\"ate\",\"nat\",\"bat\"]\n",
    "groupAnagrams(strs)"
   ]
  },
  {
   "cell_type": "markdown",
   "metadata": {},
   "source": [
    "347. Top K Frequent Elements"
   ]
  },
  {
   "cell_type": "markdown",
   "metadata": {},
   "source": [
    "Given an integer array nums and an integer k, return the k most frequent elements within the array.\n",
    "\n",
    "The test cases are generated such that the answer is always unique."
   ]
  },
  {
   "cell_type": "code",
   "execution_count": 23,
   "metadata": {},
   "outputs": [
    {
     "data": {
      "text/plain": [
       "[1, 2]"
      ]
     },
     "execution_count": 23,
     "metadata": {},
     "output_type": "execute_result"
    }
   ],
   "source": [
    "# Sorting    TC = O(nlogn) SC = O(n)\n",
    "def topKFrequent(nums: List[int], k: int) -> List[int]:\n",
    "    count = {}\n",
    "    for num in nums:\n",
    "        count[num] = 1 + count.get(num, 0)\n",
    "\n",
    "    arr = []\n",
    "    for num, cnt in count.items():\n",
    "        arr.append([cnt, num])\n",
    "    arr.sort()\n",
    "\n",
    "    res = []\n",
    "    while len(res) < k:\n",
    "        res.append(arr.pop()[1])\n",
    "    return res\n",
    "\n",
    "nums = [1,1,1,2,2]\n",
    "k = 2\n",
    "topKFrequent(nums, k)"
   ]
  },
  {
   "cell_type": "code",
   "execution_count": 24,
   "metadata": {},
   "outputs": [
    {
     "data": {
      "text/plain": [
       "[1, 2]"
      ]
     },
     "execution_count": 24,
     "metadata": {},
     "output_type": "execute_result"
    }
   ],
   "source": [
    "# Bucket Sorting    TC = O(n) SC = O(n)\n",
    "def topKFrequent(nums: List[int], k: int) -> List[int]:\n",
    "    count = {}\n",
    "    freq = [[] for i in range(len(nums) + 1)]\n",
    "\n",
    "    for num in nums:\n",
    "        count[num] = 1 + count.get(num, 0)\n",
    "    for num, cnt in count.items():\n",
    "        freq[cnt].append(num)\n",
    "    \n",
    "    res = []\n",
    "    for i in range(len(freq) - 1, 0, -1):\n",
    "        for num in freq[i]:\n",
    "            res.append(num)\n",
    "            if len(res) == k:\n",
    "                return res\n",
    "\n",
    "nums = [1,1,1,2,2]\n",
    "k = 2\n",
    "topKFrequent(nums, k)"
   ]
  },
  {
   "cell_type": "markdown",
   "metadata": {},
   "source": [
    "238. Product of Array Except Self"
   ]
  },
  {
   "cell_type": "code",
   "execution_count": 1,
   "metadata": {},
   "outputs": [
    {
     "name": "stdout",
     "output_type": "stream",
     "text": [
      "[24, 12, 8, 6]\n"
     ]
    }
   ],
   "source": [
    "def productArray(nums):\n",
    "    total_product = 1\n",
    "    for i in nums:\n",
    "        total_product *= i\n",
    "    result = []\n",
    "    for i in nums:\n",
    "        result.append(total_product // i) # result = [total_product // i for i in nums]\n",
    "    return result\n",
    "\n",
    "nums = [1,2,3,4]\n",
    "result = productArray( nums)\n",
    "print(result)"
   ]
  },
  {
   "cell_type": "code",
   "execution_count": 5,
   "metadata": {},
   "outputs": [
    {
     "name": "stdout",
     "output_type": "stream",
     "text": [
      "[24, 12, 8, 6]\n"
     ]
    }
   ],
   "source": [
    "def productArray(nums):\n",
    "    res = [1]*(len(nums))\n",
    "    prefix = 1\n",
    "    for i in range(len(nums)): # pass 1 forward\n",
    "        res[i] = prefix\n",
    "        prefix = prefix * nums[i]\n",
    "    postfix = 1\n",
    "    for i in range(len(nums) -1, -1, -1): # pass 1 backward\n",
    "        res[i] = res[i] * postfix\n",
    "        postfix = postfix * nums[i]\n",
    "    return res\n",
    "\n",
    "nums = [1,2,3,4]\n",
    "result = productArray(nums)\n",
    "print(result)"
   ]
  },
  {
   "cell_type": "markdown",
   "metadata": {},
   "source": [
    "271. Encode and Decode Strings"
   ]
  },
  {
   "cell_type": "markdown",
   "metadata": {},
   "source": [
    "Design an algorithm to encode a list of strings to a single string. The encoded string is then decoded back to the original list of strings.\n",
    "\n"
   ]
  },
  {
   "cell_type": "code",
   "execution_count": null,
   "metadata": {},
   "outputs": [],
   "source": [
    "# Encoding and Decoding      TC = O(n)  SC = O(m)\n",
    "def encode(strs: List[str]) -> str:\n",
    "    if not strs:\n",
    "        return \"\"\n",
    "    sizes, res = [], \"\"\n",
    "    for s in strs:\n",
    "        sizes.append(len(s))\n",
    "    for sz in sizes:\n",
    "        res += str(sz)\n",
    "        res += ','\n",
    "    res += '#'\n",
    "    for s in strs:\n",
    "        res += s\n",
    "    return res\n",
    "\n",
    "def decode(s: str) -> List[str]:\n",
    "    if not s:\n",
    "        return []\n",
    "    sizes, res, i = [], [], 0\n",
    "    while s[i] != '#':\n",
    "        cur = \"\"\n",
    "        while s[i] != ',':\n",
    "            cur += s[i]\n",
    "            i += 1\n",
    "        sizes.append(int(cur))\n",
    "        i += 1\n",
    "    i += 1\n",
    "    for sz in sizes:\n",
    "        res.append(s[i:i + sz])\n",
    "        i += sz\n",
    "    return res\n"
   ]
  },
  {
   "cell_type": "code",
   "execution_count": null,
   "metadata": {},
   "outputs": [],
   "source": [
    "# Encoding and Decoding Optimal      TC = O(n)  SC = O(m)\n",
    "def encode(strs: List[str]) -> str:\n",
    "    res = \"\"\n",
    "    for s in strs:\n",
    "        res += str(len(s)) + \"#\" + s\n",
    "    return res\n",
    "\n",
    "def decode(s: str) -> List[str]:\n",
    "    res = []\n",
    "    i = 0\n",
    "    \n",
    "    while i < len(s):\n",
    "        j = i\n",
    "        while s[j] != '#':\n",
    "            j += 1\n",
    "        length = int(s[i:j])\n",
    "        i = j + 1\n",
    "        j = i + length\n",
    "        res.append(s[i:j])\n",
    "        i = j\n",
    "        \n",
    "    return res"
   ]
  },
  {
   "cell_type": "markdown",
   "metadata": {},
   "source": [
    "128. Longest Consecutive Sequence"
   ]
  },
  {
   "cell_type": "markdown",
   "metadata": {},
   "source": [
    "Given an unsorted array of integers nums, return the length of the longest consecutive elements sequence.\n",
    "\n",
    "You must write an algorithm that runs in O(n) time."
   ]
  },
  {
   "cell_type": "code",
   "execution_count": null,
   "metadata": {},
   "outputs": [],
   "source": [
    "# Brute      TC = O(n^2)  SC = O(n)\n",
    "def longestConsecutive(nums: List[int]) -> int:\n",
    "    res = 0\n",
    "    store = set(nums)\n",
    "\n",
    "    for num in nums:\n",
    "        streak, curr = 0, num\n",
    "        while curr in store:\n",
    "            streak += 1\n",
    "            curr += 1\n",
    "        res = max(res, streak)\n",
    "    return res"
   ]
  },
  {
   "cell_type": "code",
   "execution_count": null,
   "metadata": {},
   "outputs": [],
   "source": [
    "# Sorting      TC = O(nlogn)  SC = O(1)\n",
    "def longestConsecutive(nums: List[int]) -> int:\n",
    "    if not nums:\n",
    "        return 0\n",
    "    res = 0\n",
    "    nums.sort()\n",
    "    \n",
    "    curr, streak = nums[0], 0\n",
    "    i = 0\n",
    "    while i < len(nums):\n",
    "        if curr != nums[i]:\n",
    "            curr = nums[i]\n",
    "            streak = 0\n",
    "        while i < len(nums) and nums[i] == curr:\n",
    "            i += 1\n",
    "        streak += 1\n",
    "        curr += 1\n",
    "        res = max(res, streak)\n",
    "    return res"
   ]
  },
  {
   "cell_type": "code",
   "execution_count": null,
   "metadata": {},
   "outputs": [],
   "source": [
    "# Hash Set      TC = O(n)  SC = O(n)\n",
    "def longestConsecutive(nums: List[int]) -> int:\n",
    "    numSet = set(nums)\n",
    "    longest = 0\n",
    "\n",
    "    for num in numSet:\n",
    "        if (num - 1) not in numSet:\n",
    "            length = 1\n",
    "            while (num + length) in numSet:\n",
    "                length += 1\n",
    "            longest = max(length, longest)\n",
    "    return longest"
   ]
  },
  {
   "cell_type": "code",
   "execution_count": null,
   "metadata": {},
   "outputs": [],
   "source": [
    "# Hash Map      TC = O(n)  SC = O(n)\n",
    "def longestConsecutive(nums: List[int]) -> int:\n",
    "    mp = defaultdict(int)\n",
    "    res = 0\n",
    "\n",
    "    for num in nums:\n",
    "        if not mp[num]:\n",
    "            mp[num] = mp[num - 1] + mp[num + 1] + 1\n",
    "            mp[num - mp[num - 1]] = mp[num]\n",
    "            mp[num + mp[num + 1]] = mp[num]\n",
    "            res = max(res, mp[num])\n",
    "    return res"
   ]
  },
  {
   "cell_type": "markdown",
   "metadata": {},
   "source": [
    "202. Happy Number"
   ]
  },
  {
   "cell_type": "markdown",
   "metadata": {},
   "source": [
    "560. Subarray Sum Equals K"
   ]
  },
  {
   "cell_type": "markdown",
   "metadata": {},
   "source": [
    "448. Find All Numbers Disappeared in an Array"
   ]
  },
  {
   "cell_type": "markdown",
   "metadata": {},
   "source": [
    "136. Single Number"
   ]
  },
  {
   "cell_type": "markdown",
   "metadata": {},
   "source": [
    "Given a non-empty array of integers nums, every element appears twice except for one. Find that single one.\n",
    "\n",
    "You must implement a solution with a linear runtime complexity and use only constant extra space."
   ]
  },
  {
   "cell_type": "code",
   "execution_count": 29,
   "metadata": {},
   "outputs": [
    {
     "data": {
      "text/plain": [
       "4"
      ]
     },
     "execution_count": 29,
     "metadata": {},
     "output_type": "execute_result"
    }
   ],
   "source": [
    "def singleNumber(nums: List[int]) -> int:\n",
    "    result = 0\n",
    "    for num in nums:\n",
    "        result ^= num\n",
    "    return result\n",
    "\n",
    "nums = [4,1,2,1,2]\n",
    "singleNumber(nums)"
   ]
  },
  {
   "cell_type": "markdown",
   "metadata": {},
   "source": [
    "### Two Pointers"
   ]
  },
  {
   "cell_type": "markdown",
   "metadata": {},
   "source": [
    "167. Two Sum II - Input Array Is Sorted"
   ]
  },
  {
   "cell_type": "code",
   "execution_count": null,
   "metadata": {},
   "outputs": [],
   "source": [
    "# Two Sum with Sorted Array         TC = O(n), SC = O(1)\n",
    "def twoSum(nums: List[int], target: int) -> List[int]:\n",
    "    l = 0\n",
    "    r = len(nums) - 1\n",
    "    while l < r:\n",
    "        current_sum = nums[l] + nums[r]\n",
    "        if current_sum == target:\n",
    "            return l, r\n",
    "        elif current_sum < target:\n",
    "            l = l + 1\n",
    "        else:\n",
    "            r = r - 1\n",
    "    print(\"No Solution Found\")\n",
    "\n",
    "nums = [1,2,4,4,5,6]\n",
    "target = 9\n",
    "print(twoSum(nums, target))"
   ]
  },
  {
   "cell_type": "markdown",
   "metadata": {},
   "source": [
    "125. Valid Palindrome\n"
   ]
  },
  {
   "cell_type": "markdown",
   "metadata": {},
   "source": [
    "A phrase is a palindrome if, after converting all uppercase letters into lowercase letters and removing all non-alphanumeric characters, it reads the same forward and backward. Alphanumeric characters include letters and numbers."
   ]
  },
  {
   "cell_type": "code",
   "execution_count": null,
   "metadata": {},
   "outputs": [
    {
     "name": "stdout",
     "output_type": "stream",
     "text": [
      "True\n"
     ]
    }
   ],
   "source": [
    "# Using Reverse and isalnum()     TC = O(n), SC = O(n)\n",
    "def isPalindrome(s: str) -> bool:\n",
    "    filtered_s = \"\"\n",
    "    for i in s:\n",
    "        if i.isalnum():\n",
    "            filtered_s = filtered_s + i.lower()\n",
    "    return filtered_s == filtered_s[::-1]\n",
    "\n",
    "s = \"A man, a plan, a canal: Panama\"\n",
    "s = \"vinayyaniv\"\n",
    "print(isPalindrome(s))"
   ]
  },
  {
   "cell_type": "code",
   "execution_count": 3,
   "metadata": {},
   "outputs": [
    {
     "name": "stdout",
     "output_type": "stream",
     "text": [
      "True\n"
     ]
    }
   ],
   "source": [
    "# Two Pointers      TC = O(n), SC = O(1)\n",
    "def isPalindrome(s: str) -> bool:\n",
    "    l = 0\n",
    "    r = len(s) - 1\n",
    "    while l < r:\n",
    "        while l < r and not s[l].isalnum():\n",
    "            l = l + 1\n",
    "        while l < r and not s[r].isalnum():\n",
    "            r = r - 1\n",
    "        if s[l].lower() != s[r].lower():\n",
    "            return False\n",
    "        l = l + 1\n",
    "        r = r - 1\n",
    "    return True\n",
    "\n",
    "s = \"A man, a plan, a canal: Panama\"\n",
    "print(isPalindrome(s))"
   ]
  },
  {
   "cell_type": "markdown",
   "metadata": {},
   "source": [
    "26. Remove Duplicates from Sorted Array"
   ]
  },
  {
   "cell_type": "markdown",
   "metadata": {},
   "source": [
    "Given an integer array nums sorted in non-decreasing order, remove the duplicates in-place such that each unique element appears only once. The relative order of the elements should be kept the same. Then return the number of unique elements in nums."
   ]
  },
  {
   "cell_type": "code",
   "execution_count": 61,
   "metadata": {},
   "outputs": [
    {
     "name": "stdout",
     "output_type": "stream",
     "text": [
      "4\n"
     ]
    }
   ],
   "source": [
    "# While    TC = O(n^2), SC = O(1)\n",
    "def removeDuplicates(nums: List[int]) -> int:\n",
    "        i=0\n",
    "        while i<len(nums)-1:\n",
    "            if nums[i] == nums[i+1]:\n",
    "                nums.pop(i+1)\n",
    "            else:\n",
    "                i = i+1\n",
    "        return len(nums)\n",
    "        \n",
    "nums = [1,1,2,3,4]\n",
    "print(removeDuplicates(nums))"
   ]
  },
  {
   "cell_type": "code",
   "execution_count": 62,
   "metadata": {},
   "outputs": [
    {
     "name": "stdout",
     "output_type": "stream",
     "text": [
      "5\n"
     ]
    }
   ],
   "source": [
    "# Two Pointers    TC = O(n), SC = O(1)\n",
    "def removeDuplicates(nums: List[int]) -> int:\n",
    "    l = 1\n",
    "    for r in range(1, len(nums)):\n",
    "        if nums[r] != nums[r-1]:\n",
    "            l = l + 1\n",
    "    return l\n",
    "        \n",
    "nums = [0,0,1,1,1,2,2,3,3,4]\n",
    "print(removeDuplicates(nums))"
   ]
  },
  {
   "cell_type": "markdown",
   "metadata": {},
   "source": [
    "15. 3Sum\n"
   ]
  },
  {
   "cell_type": "markdown",
   "metadata": {},
   "source": [
    "Given an integer array nums, return all the triplets [nums[i], nums[j], nums[k]] such that i != j, i != k, and j != k, and nums[i] + nums[j] + nums[k] == 0.\n",
    "\n",
    "Notice that the solution set must not contain duplicate triplets."
   ]
  },
  {
   "cell_type": "code",
   "execution_count": 72,
   "metadata": {},
   "outputs": [
    {
     "name": "stdout",
     "output_type": "stream",
     "text": [
      "-1 0 1\n",
      "0 1 -1\n",
      "None\n"
     ]
    }
   ],
   "source": [
    "# Brute Force    TC = O(n^3), SC = O(1)\n",
    "def threeSum(nums: List[int]) -> List[List[int]]:\n",
    "    for i in range(len(nums)):\n",
    "        for j in range(i+1, len(nums)):\n",
    "            for k in range(j+1, len(nums)):\n",
    "                if nums[i] + nums[j] + nums[k] == 0 and nums[i] != nums[j] and nums[i] != nums[k] and nums[j] != nums[k]:\n",
    "                        print(nums[i], nums[j], nums[k])\n",
    "\n",
    "nums = [-1,0,1,2,-1,-4]\n",
    "print(threeSum(nums))"
   ]
  },
  {
   "cell_type": "code",
   "execution_count": null,
   "metadata": {},
   "outputs": [],
   "source": [
    "# Two Sum + Three Sum  TC = O(n^2), SC = O(n)\n",
    "def threeSum(nums: List[int]) -> List[List[int]]:\n",
    "    answer = []\n",
    "    nums.sort()   # O(nlogn)\n",
    "    \n",
    "    for i in range(len(nums)):\n",
    "        if nums[i] > 0:\n",
    "            break\n",
    "        elif i > 0 and nums[i] == nums[i-1]:\n",
    "            continue\n",
    "        l = i + 1\n",
    "        r = len(nums) - 1\n",
    "        while l < r:\n",
    "            targetsum = nums[i] + nums[l] + nums[r]\n",
    "            if targetsum == 0:\n",
    "                answer.append([nums[i], nums[l], nums[r]])\n",
    "                l = l + 1\n",
    "                r = r - 1\n",
    "                while l < r and nums[l] == nums[l - 1]:\n",
    "                    l = l + 1\n",
    "                while l < r and nums[r] == nums[r + 1]:\n",
    "                    r = r - 1\n",
    "            elif targetsum < 0:\n",
    "                l = l + 1\n",
    "            else:\n",
    "                r = r - 1\n",
    "    return answer\n",
    "\n",
    "nums = [-1,0,1,2,-1,-4]\n",
    "threeSum(nums)"
   ]
  },
  {
   "cell_type": "markdown",
   "metadata": {},
   "source": [
    "11. Container With Most Water\n"
   ]
  },
  {
   "cell_type": "markdown",
   "metadata": {},
   "source": [
    "You are given an integer array height of length n. There are n vertical lines drawn such that the two endpoints of the ith line are (i, 0) and (i, height[i]).\n",
    "\n",
    "Find two lines that together with the x-axis form a container, such that the container contains the most water.\n",
    "\n",
    "Return the maximum amount of water a container can store."
   ]
  },
  {
   "cell_type": "code",
   "execution_count": 63,
   "metadata": {},
   "outputs": [
    {
     "name": "stdout",
     "output_type": "stream",
     "text": [
      "49\n"
     ]
    }
   ],
   "source": [
    "# Brute Force     TC = O(n^2), SC = O(1)\n",
    "def maxArea(height: List[int]) -> int:\n",
    "    max_area = 0\n",
    "    for l in range(0, len(height)):\n",
    "        for r in range(i+1, len(height)):\n",
    "            current_area = (r-l) * min(height[r], height[l])\n",
    "            max_area = max(max_area, current_area)\n",
    "    return max_area\n",
    "\n",
    "height = [1,8,6,2,5,4,8,3,7]\n",
    "print(maxArea(height))    "
   ]
  },
  {
   "cell_type": "code",
   "execution_count": 44,
   "metadata": {},
   "outputs": [
    {
     "name": "stdout",
     "output_type": "stream",
     "text": [
      "49\n"
     ]
    }
   ],
   "source": [
    "# Two Pointers      TC = O(n), SC = O(1)\n",
    "def maxArea(height: List[int]) -> int:\n",
    "    max_area = 0\n",
    "    l = 0\n",
    "    r = len(height) - 1\n",
    "    while l < r:\n",
    "        current_area = (r-l) * min(height[r], height[l])\n",
    "        max_area = max(max_area, current_area)\n",
    "        if height[l] < height[r]:\n",
    "            l = l + 1\n",
    "        else:\n",
    "            r = r - 1\n",
    "    return max_area\n",
    "\n",
    "height = [1,8,6,2,5,4,8,3,7]\n",
    "print(maxArea(height))   "
   ]
  },
  {
   "cell_type": "markdown",
   "metadata": {},
   "source": [
    "75. Sort Colors\n"
   ]
  },
  {
   "cell_type": "markdown",
   "metadata": {},
   "source": [
    "Given an array nums with n objects colored red, white, or blue, sort them in-place so that objects of the same color are adjacent, with the colors in the order red, white, and blue.\n",
    "\n",
    "We will use the integers 0, 1, and 2 to represent the color red, white, and blue, respectively.\n",
    "\n",
    "You must solve this problem without using the library's sort function."
   ]
  },
  {
   "cell_type": "code",
   "execution_count": 95,
   "metadata": {},
   "outputs": [
    {
     "name": "stdout",
     "output_type": "stream",
     "text": [
      "[0, 0, 1, 1, 2, 2]\n"
     ]
    }
   ],
   "source": [
    "# Two Pointers       TC = O(n), SC = O(1)\n",
    "def sortColors(nums):\n",
    "    i = 0\n",
    "    l = 0\n",
    "    r = len(nums) - 1\n",
    "    \n",
    "    while i < r:\n",
    "        if nums[i] == 0:\n",
    "            nums[i], nums[l] = nums[l], nums[i]\n",
    "            i += 1\n",
    "            l += 1\n",
    "        elif nums[i] == 2:\n",
    "            nums[i], nums[r] = nums[r], nums[i]\n",
    "            r -= 1\n",
    "        else:  # nums[i] == 1\n",
    "            i += 1\n",
    "\n",
    "# Example usage\n",
    "nums = [2, 0, 2, 1, 1, 0]\n",
    "sortColors(nums)\n",
    "print(nums) "
   ]
  },
  {
   "cell_type": "markdown",
   "metadata": {},
   "source": [
    "### Sliding Window"
   ]
  },
  {
   "cell_type": "markdown",
   "metadata": {},
   "source": [
    "3. Longest Substring Without Repeating Characters\n"
   ]
  },
  {
   "cell_type": "markdown",
   "metadata": {},
   "source": [
    "Given a string s, find the length of the longest \n",
    "substring\n",
    " without repeating characters."
   ]
  },
  {
   "cell_type": "code",
   "execution_count": 34,
   "metadata": {},
   "outputs": [
    {
     "data": {
      "text/plain": [
       "3"
      ]
     },
     "execution_count": 34,
     "metadata": {},
     "output_type": "execute_result"
    }
   ],
   "source": [
    "# Set    sett.remove(s[l])   sett.add(s[r])       TC = O(n)    SC = O(n)\n",
    "def lengthOfLongestSubstring(s: str) -> int:\n",
    "    charset = set()\n",
    "    longest = 0\n",
    "    l = 0\n",
    "    for r in range(len(s)):\n",
    "        while s[r] in charset:\n",
    "            charset.remove(s[l])\n",
    "            l = l + 1\n",
    "        charset.add(s[r])\n",
    "        current_longest = (r - l) + 1\n",
    "        longest = max(longest, current_longest) \n",
    "    return longest\n",
    "\n",
    "s = \"abcabcbb\"\n",
    "lengthOfLongestSubstring(s)"
   ]
  },
  {
   "cell_type": "markdown",
   "metadata": {},
   "source": [
    "76. Minimum Window Substring\n"
   ]
  },
  {
   "cell_type": "markdown",
   "metadata": {},
   "source": [
    "567. Permutation in String\n"
   ]
  },
  {
   "cell_type": "markdown",
   "metadata": {},
   "source": [
    "239. Sliding Window Maximum\n"
   ]
  },
  {
   "cell_type": "markdown",
   "metadata": {},
   "source": [
    "424. Longest Repeating Character Replacement\n"
   ]
  },
  {
   "cell_type": "markdown",
   "metadata": {},
   "source": [
    "30. Substring with Concatenation of All Words"
   ]
  },
  {
   "cell_type": "markdown",
   "metadata": {},
   "source": [
    "### Binary Search \n"
   ]
  },
  {
   "cell_type": "markdown",
   "metadata": {},
   "source": [
    "704. Binary Search\n"
   ]
  },
  {
   "cell_type": "markdown",
   "metadata": {},
   "source": [
    "74. Search a 2D Matrix\n"
   ]
  },
  {
   "cell_type": "markdown",
   "metadata": {},
   "source": [
    "153. Find Minimum in Rotated Sorted Array\n"
   ]
  },
  {
   "cell_type": "markdown",
   "metadata": {},
   "source": [
    "981. Time-Based Key-Value Store"
   ]
  },
  {
   "cell_type": "markdown",
   "metadata": {},
   "source": [
    "35. Search Insert Position"
   ]
  },
  {
   "cell_type": "markdown",
   "metadata": {},
   "source": [
    "### Linked Lists "
   ]
  },
  {
   "cell_type": "markdown",
   "metadata": {},
   "source": [
    "206. Reverse Linked List\n"
   ]
  },
  {
   "cell_type": "markdown",
   "metadata": {},
   "source": [
    "21. Merge Two Sorted Lists\n"
   ]
  },
  {
   "cell_type": "markdown",
   "metadata": {},
   "source": [
    "141. Linked List Cycle\n"
   ]
  },
  {
   "cell_type": "markdown",
   "metadata": {},
   "source": [
    "19. Remove Nth Node from End of List\n"
   ]
  },
  {
   "cell_type": "markdown",
   "metadata": {},
   "source": [
    "2. Add Two Numbers\n"
   ]
  },
  {
   "cell_type": "markdown",
   "metadata": {},
   "source": [
    "143. Reorder List\n"
   ]
  },
  {
   "cell_type": "markdown",
   "metadata": {},
   "source": [
    "142. Linked List Cycle II"
   ]
  },
  {
   "cell_type": "markdown",
   "metadata": {},
   "source": [
    "### Trees \n"
   ]
  },
  {
   "cell_type": "markdown",
   "metadata": {},
   "source": [
    "104. Maximum Depth of Binary Tree\n"
   ]
  },
  {
   "cell_type": "markdown",
   "metadata": {},
   "source": [
    "98. Validate Binary Search Tree\n"
   ]
  },
  {
   "cell_type": "markdown",
   "metadata": {},
   "source": [
    "102. Binary Tree Level Order Traversal\n"
   ]
  },
  {
   "cell_type": "markdown",
   "metadata": {},
   "source": [
    "235. Lowest Common Ancestor of a BST\n"
   ]
  },
  {
   "cell_type": "markdown",
   "metadata": {},
   "source": [
    "108. Convert Sorted Array to Binary Search Tree\n"
   ]
  },
  {
   "cell_type": "markdown",
   "metadata": {},
   "source": [
    "101. Symmetric Tree\n"
   ]
  },
  {
   "cell_type": "markdown",
   "metadata": {},
   "source": [
    "94. Binary Tree Inorder Traversal\n"
   ]
  },
  {
   "cell_type": "markdown",
   "metadata": {},
   "source": [
    "112. Path Sum\n"
   ]
  },
  {
   "cell_type": "markdown",
   "metadata": {},
   "source": [
    "543. Diameter of Binary Tree\n"
   ]
  },
  {
   "cell_type": "markdown",
   "metadata": {},
   "source": [
    "230. Kth Smallest Element in a BST\n"
   ]
  },
  {
   "cell_type": "markdown",
   "metadata": {},
   "source": [
    "110. Balanced Binary Tree"
   ]
  },
  {
   "cell_type": "markdown",
   "metadata": {},
   "source": [
    "### Dynamic Programming "
   ]
  },
  {
   "cell_type": "markdown",
   "metadata": {},
   "source": [
    "70. Climbing Stairs"
   ]
  },
  {
   "cell_type": "markdown",
   "metadata": {},
   "source": [
    "5. Longest Palindromic Substring"
   ]
  },
  {
   "cell_type": "markdown",
   "metadata": {},
   "source": [
    "322. Coin Change"
   ]
  },
  {
   "cell_type": "markdown",
   "metadata": {},
   "source": [
    "139. Word Break"
   ]
  },
  {
   "cell_type": "markdown",
   "metadata": {},
   "source": [
    "300. Longest Increasing Subsequence"
   ]
  },
  {
   "cell_type": "markdown",
   "metadata": {},
   "source": [
    "198. House Robber"
   ]
  },
  {
   "cell_type": "markdown",
   "metadata": {},
   "source": [
    "213. House Robber II"
   ]
  },
  {
   "cell_type": "markdown",
   "metadata": {},
   "source": [
    "131. Palindrome Partitioning"
   ]
  },
  {
   "cell_type": "markdown",
   "metadata": {},
   "source": [
    "72. Edit Distance"
   ]
  },
  {
   "cell_type": "markdown",
   "metadata": {},
   "source": [
    "152. Maximum Product Subarray"
   ]
  },
  {
   "cell_type": "code",
   "execution_count": null,
   "metadata": {},
   "outputs": [],
   "source": [
    "def maxProdSubarray(nums):\n",
    "    res = max(nums)\n",
    "    curr_min, curr_max = 1,1\n",
    "    for n in nums:\n",
    "        tmp = curr_max * n\n",
    "        curr_max = max(n*curr_max, n*curr_min, n)\n",
    "        curr_min = min(tmp, n*curr_min, n)\n",
    "        res = max(res, curr_max)\n",
    "    return res\n",
    "\n",
    "nums = [2,3,-2, 4]\n",
    "result = maxProdSubarray(nums)\n",
    "print(result)"
   ]
  },
  {
   "cell_type": "markdown",
   "metadata": {},
   "source": [
    "416. Partition Equal Subset Sum"
   ]
  },
  {
   "cell_type": "markdown",
   "metadata": {},
   "source": [
    "62. Unique Paths"
   ]
  },
  {
   "cell_type": "markdown",
   "metadata": {},
   "source": [
    "53. Maximum Subarray"
   ]
  },
  {
   "cell_type": "code",
   "execution_count": null,
   "metadata": {},
   "outputs": [],
   "source": [
    "# Sliding Window\n",
    "def maxSubArray(nums):\n",
    "    max_subarray_sum = nums[0]\n",
    "    cur_subarray_sum = 0\n",
    "    for i in nums:\n",
    "        if cur_subarray_sum < 0: # if current sum is less than zero then reset it back to zero\n",
    "            cur_subarray_sum = 0\n",
    "        cur_subarray_sum = cur_subarray_sum + i\n",
    "        max_subarray_sum = max(max_subarray_sum, cur_subarray_sum)\n",
    "    return max_subarray_sum\n",
    "\n",
    "nums = [-2, 1, -3, 4, -1, 2, 1, -5, 4]\n",
    "result = maxSubArray(nums)\n",
    "print(result)\n",
    "\n",
    "# Time Complexisty = O(n), Space Complexity = O(1)"
   ]
  },
  {
   "cell_type": "markdown",
   "metadata": {},
   "source": [
    "55. Jump Game"
   ]
  },
  {
   "cell_type": "markdown",
   "metadata": {},
   "source": [
    "121. Best Time to Buy and Sell Stock"
   ]
  },
  {
   "cell_type": "markdown",
   "metadata": {},
   "source": [
    "You are given an array prices where prices[i] is the price of a given stock on the ith day.\n",
    "\n",
    "You want to maximize your profit by choosing a single day to buy one stock and choosing a different day in the future to sell that stock."
   ]
  },
  {
   "cell_type": "code",
   "execution_count": 39,
   "metadata": {},
   "outputs": [
    {
     "name": "stdout",
     "output_type": "stream",
     "text": [
      "5\n"
     ]
    }
   ],
   "source": [
    "# Time Complexisty = O(n), Space Complexity = O(1)\n",
    "def maxProfit(prices: List[int]) -> int:\n",
    "    left = 0\n",
    "    right = 1\n",
    "    max_profit = 0\n",
    "    while right < len(prices):\n",
    "        if prices[left] < prices[right]:\n",
    "            profit = prices[right] - prices[left]\n",
    "            max_profit = max(profit, max_profit)\n",
    "        else:\n",
    "            left = right\n",
    "        right += 1\n",
    "    return max_profit\n",
    "\n",
    "prices = [7,1,5,3,6,4]\n",
    "print(maxProfit(prices))"
   ]
  },
  {
   "cell_type": "markdown",
   "metadata": {},
   "source": [
    "### Graphs"
   ]
  },
  {
   "cell_type": "markdown",
   "metadata": {},
   "source": [
    "200. Number of Islands"
   ]
  },
  {
   "cell_type": "markdown",
   "metadata": {},
   "source": [
    "133. Clone Graph"
   ]
  },
  {
   "cell_type": "markdown",
   "metadata": {},
   "source": [
    "207. Course Schedule"
   ]
  },
  {
   "cell_type": "markdown",
   "metadata": {},
   "source": [
    "417. Pacific Atlantic Water Flow"
   ]
  },
  {
   "cell_type": "markdown",
   "metadata": {},
   "source": [
    "695. Max Area of Island"
   ]
  },
  {
   "cell_type": "markdown",
   "metadata": {},
   "source": [
    "127. Word Ladder"
   ]
  },
  {
   "cell_type": "markdown",
   "metadata": {},
   "source": [
    "1091. Shortest Path in Binary Matrix"
   ]
  },
  {
   "cell_type": "markdown",
   "metadata": {},
   "source": [
    "130. Surrounded Regions"
   ]
  },
  {
   "cell_type": "markdown",
   "metadata": {},
   "source": [
    "261. Graph Valid Tree"
   ]
  },
  {
   "cell_type": "markdown",
   "metadata": {},
   "source": [
    "### Intervals "
   ]
  },
  {
   "cell_type": "markdown",
   "metadata": {},
   "source": [
    "56. Merge Intervals"
   ]
  },
  {
   "cell_type": "markdown",
   "metadata": {},
   "source": [
    "57. Insert Interval"
   ]
  },
  {
   "cell_type": "markdown",
   "metadata": {},
   "source": [
    "435. Non-overlapping Intervals"
   ]
  },
  {
   "cell_type": "markdown",
   "metadata": {},
   "source": [
    "252. Meeting Rooms"
   ]
  },
  {
   "cell_type": "markdown",
   "metadata": {},
   "source": [
    "253. Meeting Rooms II"
   ]
  },
  {
   "cell_type": "markdown",
   "metadata": {},
   "source": [
    "### Backtracking"
   ]
  },
  {
   "cell_type": "markdown",
   "metadata": {},
   "source": [
    "78. Subsets"
   ]
  },
  {
   "cell_type": "markdown",
   "metadata": {},
   "source": [
    "39. Combination Sum"
   ]
  },
  {
   "cell_type": "markdown",
   "metadata": {},
   "source": [
    "79. Word Search"
   ]
  },
  {
   "cell_type": "markdown",
   "metadata": {},
   "source": [
    "22. Generate Parentheses"
   ]
  },
  {
   "cell_type": "markdown",
   "metadata": {},
   "source": [
    "46. Permutations"
   ]
  },
  {
   "cell_type": "markdown",
   "metadata": {},
   "source": [
    "17. Letter Combinations of a Phone Number"
   ]
  },
  {
   "cell_type": "code",
   "execution_count": null,
   "metadata": {},
   "outputs": [],
   "source": []
  },
  {
   "cell_type": "code",
   "execution_count": null,
   "metadata": {},
   "outputs": [],
   "source": []
  },
  {
   "cell_type": "code",
   "execution_count": null,
   "metadata": {},
   "outputs": [],
   "source": []
  },
  {
   "cell_type": "code",
   "execution_count": null,
   "metadata": {},
   "outputs": [],
   "source": []
  },
  {
   "cell_type": "markdown",
   "metadata": {},
   "source": [
    "### Patterns"
   ]
  },
  {
   "cell_type": "markdown",
   "metadata": {},
   "source": [
    "##### 1.PrefixSum"
   ]
  },
  {
   "cell_type": "markdown",
   "metadata": {},
   "source": [
    "Sum of elements in a subarray"
   ]
  },
  {
   "cell_type": "markdown",
   "metadata": {},
   "source": [
    "Range Sum Query - Immutable"
   ]
  },
  {
   "cell_type": "markdown",
   "metadata": {},
   "source": [
    "Contiguous Array"
   ]
  },
  {
   "cell_type": "markdown",
   "metadata": {},
   "source": [
    "Subarray Sum Equals K"
   ]
  },
  {
   "cell_type": "code",
   "execution_count": null,
   "metadata": {},
   "outputs": [],
   "source": [
    "def no_prefix_sum_array(arr, i, j):\n",
    "    counter = 0\n",
    "    for k in range(i, j+1):\n",
    "        counter += arr[k]\n",
    "    return counter \n",
    "\n",
    "arr=[0,1,2,3,4]\n",
    "result = no_prefix_sum_array(arr, 1, 4)\n",
    "result1 = no_prefix_sum_array(arr, 1, 3)\n",
    "print(result)\n",
    "print(result1)  "
   ]
  },
  {
   "cell_type": "code",
   "execution_count": null,
   "metadata": {},
   "outputs": [],
   "source": [
    "def build_prefix_sum_array(arr):\n",
    "    prefix_sum_arr = [0] * len(arr) # Initialize the prefix sum array with the same length as nums\n",
    "    prefix_sum_arr[0] = arr[0] # Compute the prefix sums\n",
    "    for i in range(1, len(arr)):\n",
    "        prefix_sum_arr[i] = prefix_sum_arr[i - 1] + arr[i]\n",
    "    return prefix_sum_arr\n",
    "\n",
    "def range_sum(prefix_sum_arr, i, j):\n",
    "    if i == 0: # Compute the sum of elements from index i to j using the prefix sum array\n",
    "        return prefix_sum_arr[j]\n",
    "    return prefix_sum_arr[j] - prefix_sum_arr[i - 1]\n",
    "\n",
    "arr=[0,1,2,3,4]\n",
    "prefix_sum_arr = build_prefix_sum_array(arr)\n",
    "result = range_sum(prefix_sum_arr, 1, 4)\n",
    "result1 = range_sum(prefix_sum_arr, 1, 3)\n",
    "print(arr)\n",
    "print(prefix_sum_arr)\n",
    "print(result)\n",
    "print(result1)  "
   ]
  },
  {
   "cell_type": "markdown",
   "metadata": {},
   "source": [
    "##### 3.SlidingWindow "
   ]
  },
  {
   "cell_type": "code",
   "execution_count": null,
   "metadata": {},
   "outputs": [],
   "source": [
    "# Helps to find subarrays or substrings with certain criteria\n",
    "# Order O(n * k) to O(n)\n",
    "# (Use this instead of 2 pointers which is N2), Sliding WIndow is N"
   ]
  },
  {
   "cell_type": "code",
   "execution_count": null,
   "metadata": {},
   "outputs": [],
   "source": [
    "# Find subarray of size k with maximum sum\n",
    "# Can be done in one pass (Take the 3 items and minus the just before item from the value)\n",
    "\n",
    "def max_subarray_sum(arr, k):\n",
    "    n = len(arr)\n",
    "    window_sum = sum(arr[:k])\n",
    "    max_sum = window_sum\n",
    "    max_start_index = 0\n",
    "    for i in range(n-k):\n",
    "        window_sum = window_sum - arr[i] + arr[i+k]\n",
    "        if window_sum > max_sum:\n",
    "            max_sum = window_sum\n",
    "            max_start_index = i+1\n",
    "    return arr[max_start_index:max_start_index + k], max_sum\n",
    "\n",
    "arr = [1,2,3,4,5,6]\n",
    "k = 3\n",
    "result = max_subarray_sum(arr, k)\n",
    "print(result)"
   ]
  },
  {
   "cell_type": "code",
   "execution_count": null,
   "metadata": {},
   "outputs": [],
   "source": [
    "# Maximum Average Subarray 1"
   ]
  },
  {
   "cell_type": "code",
   "execution_count": null,
   "metadata": {},
   "outputs": [],
   "source": [
    "# Longest Substring Without Repeating Character"
   ]
  },
  {
   "cell_type": "code",
   "execution_count": null,
   "metadata": {},
   "outputs": [],
   "source": [
    "# Minimum Window Substring"
   ]
  },
  {
   "cell_type": "markdown",
   "metadata": {},
   "source": [
    "##### 4.FastAndSlowPointers"
   ]
  },
  {
   "cell_type": "code",
   "execution_count": null,
   "metadata": {},
   "outputs": [],
   "source": [
    "# Finds cycles in Linkedlists and Arrays \n",
    "# Moving two pointers at different speeds\n",
    "# Helps find cycles in LinkedList, middle node in LinkedList\n",
    "# one pointer moves slow and one moves fast. If both meets there exists a cycle\n",
    "# if one pointer reaches the end other is at the middle"
   ]
  },
  {
   "cell_type": "code",
   "execution_count": null,
   "metadata": {},
   "outputs": [],
   "source": [
    "# Linked List Cycle"
   ]
  },
  {
   "cell_type": "code",
   "execution_count": null,
   "metadata": {},
   "outputs": [],
   "source": [
    "# Happy Number"
   ]
  },
  {
   "cell_type": "code",
   "execution_count": null,
   "metadata": {},
   "outputs": [],
   "source": [
    "# Find the Duplicate Number"
   ]
  },
  {
   "cell_type": "markdown",
   "metadata": {},
   "source": [
    "##### 5.LinkedListInPlaceReversal"
   ]
  },
  {
   "cell_type": "code",
   "execution_count": null,
   "metadata": {},
   "outputs": [],
   "source": [
    "# Channing/Rearranging Linked List Nodes in Given Way Without using Extra Space and Single Pass\n",
    "# Usual approach is to take the LL in an array and revers it, which is costing extra space and extra passes\n",
    "# Using 3 pointer, null, current and next can reverse a LL in one pass"
   ]
  },
  {
   "cell_type": "code",
   "execution_count": null,
   "metadata": {},
   "outputs": [],
   "source": [
    "# Reverse Linked List"
   ]
  },
  {
   "cell_type": "code",
   "execution_count": null,
   "metadata": {},
   "outputs": [],
   "source": [
    "# Reverse Linked List II"
   ]
  },
  {
   "cell_type": "code",
   "execution_count": null,
   "metadata": {},
   "outputs": [],
   "source": [
    "# Swap Nodes in Pairs"
   ]
  },
  {
   "cell_type": "markdown",
   "metadata": {},
   "source": [
    "##### 6.MonotonicStack"
   ]
  },
  {
   "cell_type": "code",
   "execution_count": null,
   "metadata": {},
   "outputs": [],
   "source": [
    "# This pattern Uses Stack to find next smallers or biggest element in an array"
   ]
  },
  {
   "cell_type": "code",
   "execution_count": null,
   "metadata": {},
   "outputs": [],
   "source": [
    "# Given an array, find the next greater element for each item. If there isn't one, output -1"
   ]
  },
  {
   "cell_type": "code",
   "execution_count": null,
   "metadata": {},
   "outputs": [],
   "source": [
    "# Next Greater Element 1"
   ]
  },
  {
   "cell_type": "code",
   "execution_count": null,
   "metadata": {},
   "outputs": [],
   "source": [
    "# Daily Temperature"
   ]
  },
  {
   "cell_type": "code",
   "execution_count": null,
   "metadata": {},
   "outputs": [],
   "source": [
    "# Largest Rectangle in Histogram"
   ]
  },
  {
   "cell_type": "markdown",
   "metadata": {},
   "source": [
    "##### 7.TopKElements"
   ]
  },
  {
   "cell_type": "code",
   "execution_count": null,
   "metadata": {},
   "outputs": [],
   "source": [
    "# Finds K Largest (MIN_HEAP), K Smallest (MAX-HEAP), K Most Frequent elements in a dataset"
   ]
  },
  {
   "cell_type": "code",
   "execution_count": null,
   "metadata": {},
   "outputs": [],
   "source": [
    "# Given an array, find the largest 3 elements\n",
    "# Normal approach would be taking an array sorting it in decending and taking top 3\n",
    "# We can avoid the sort  using MIN-HEAP\n",
    "# Using MIN-HEAP we can keep track of largest 3 elements as we loop through this array\n",
    "# Heap inserting and popping takes O(log n)"
   ]
  },
  {
   "cell_type": "code",
   "execution_count": null,
   "metadata": {},
   "outputs": [],
   "source": [
    "# Kth Largest Element in an Array"
   ]
  },
  {
   "cell_type": "code",
   "execution_count": null,
   "metadata": {},
   "outputs": [],
   "source": [
    "# Top K Frequent Elements"
   ]
  },
  {
   "cell_type": "code",
   "execution_count": null,
   "metadata": {},
   "outputs": [],
   "source": [
    "# Find K Pairs with Smallest Sum"
   ]
  },
  {
   "cell_type": "markdown",
   "metadata": {},
   "source": [
    "##### 8.OverlappingIntervals"
   ]
  },
  {
   "cell_type": "code",
   "execution_count": null,
   "metadata": {},
   "outputs": [],
   "source": [
    "# Problmes involving Intervals or Ranges that map overlap "
   ]
  },
  {
   "cell_type": "code",
   "execution_count": null,
   "metadata": {},
   "outputs": [],
   "source": [
    "# Merging Intervals\n",
    "# Interval Intersection\n",
    "# Insert Interval\n",
    "# Find Minumum Meeting Rooms\n",
    "# Merging all overlapping intervals"
   ]
  },
  {
   "cell_type": "code",
   "execution_count": null,
   "metadata": {},
   "outputs": [],
   "source": [
    "# Merge Intervals"
   ]
  },
  {
   "cell_type": "code",
   "execution_count": null,
   "metadata": {},
   "outputs": [],
   "source": [
    "# Insert Interval"
   ]
  },
  {
   "cell_type": "code",
   "execution_count": null,
   "metadata": {},
   "outputs": [],
   "source": [
    "# Non-overlapping Intervals"
   ]
  },
  {
   "cell_type": "markdown",
   "metadata": {},
   "source": [
    "##### 9.Binary Search, ModifiedBinarySearch"
   ]
  },
  {
   "cell_type": "code",
   "execution_count": null,
   "metadata": {},
   "outputs": [],
   "source": [
    "# Varient of Binary Search Algo\n",
    "# Searching in a nearly sorted array\n",
    "# Searching in a rotated sorted array\n",
    "# Searching in a list with unknown length\n",
    "# Searching in an array with duplicates\n",
    "# Finding the first or last occurance of an element\n",
    "# Finding the square root of an number\n",
    "# Finding a peak element"
   ]
  },
  {
   "cell_type": "code",
   "execution_count": null,
   "metadata": {},
   "outputs": [],
   "source": [
    "# Searching in a rotated sorted array\n"
   ]
  },
  {
   "cell_type": "code",
   "execution_count": null,
   "metadata": {},
   "outputs": [],
   "source": [
    "# Finding the Minumum in Rotated Sorted Array"
   ]
  },
  {
   "cell_type": "code",
   "execution_count": null,
   "metadata": {},
   "outputs": [],
   "source": [
    "# Search a 2D Matrix II"
   ]
  },
  {
   "cell_type": "markdown",
   "metadata": {},
   "source": [
    "##### 10.BinaryTreeTraversal"
   ]
  },
  {
   "cell_type": "code",
   "execution_count": null,
   "metadata": {},
   "outputs": [],
   "source": [
    "# Whenever a tree problem is given, find which Order is good for it \n",
    "# This is travesing the Binary Tree in Specific Order\n",
    "# PreOrder (root, left, right), Use to create a copy of a tree (serialization)\n",
    "# InOrder (left, root, right), Use to retrieve the values of binary search tree in sorted order\n",
    "# PostOrder (left, right, root), Use when you want to process the child nodes before the parent\n",
    "# InOrder (level by level), Use to explore all nodes at current level before next"
   ]
  },
  {
   "cell_type": "code",
   "execution_count": null,
   "metadata": {},
   "outputs": [],
   "source": [
    "# Binary Tree Paths"
   ]
  },
  {
   "cell_type": "code",
   "execution_count": null,
   "metadata": {},
   "outputs": [],
   "source": [
    "# Kth Smallest Element in a BST"
   ]
  },
  {
   "cell_type": "code",
   "execution_count": null,
   "metadata": {},
   "outputs": [],
   "source": [
    "# Binary Tree Maximum Path Sum"
   ]
  },
  {
   "cell_type": "code",
   "execution_count": null,
   "metadata": {},
   "outputs": [],
   "source": [
    "# Binary Tree Level Order Traversal II"
   ]
  },
  {
   "cell_type": "markdown",
   "metadata": {},
   "source": [
    "##### 11.DepthFirstSearch"
   ]
  },
  {
   "cell_type": "code",
   "execution_count": null,
   "metadata": {},
   "outputs": [],
   "source": [
    "# Used to explore all paths or branches in Graphs/Trees to solve problems like\n",
    "# Finding a path b/w two nodes\n",
    "# Checking if a graph contains cycle\n",
    "# Finding a topological order in a DAG\n",
    "# Counting number of connected components in a graph"
   ]
  },
  {
   "cell_type": "code",
   "execution_count": null,
   "metadata": {},
   "outputs": [],
   "source": [
    "# Clone Graph"
   ]
  },
  {
   "cell_type": "code",
   "execution_count": null,
   "metadata": {},
   "outputs": [],
   "source": [
    "# Path Sum II"
   ]
  },
  {
   "cell_type": "code",
   "execution_count": null,
   "metadata": {},
   "outputs": [],
   "source": [
    "# Course Schedule II"
   ]
  },
  {
   "cell_type": "markdown",
   "metadata": {},
   "source": [
    "##### 12.BreadthFirstSearch"
   ]
  },
  {
   "cell_type": "code",
   "execution_count": null,
   "metadata": {},
   "outputs": [],
   "source": [
    "# Level by Level traversal\n",
    "# Finding a shortest path b/w two nodes\n",
    "# Printing all nodes of a tree level by level\n",
    "# Finding all connected components in a graph\n",
    "# Finding the shortest transformation sequence from one word to other"
   ]
  },
  {
   "cell_type": "code",
   "execution_count": null,
   "metadata": {},
   "outputs": [],
   "source": [
    "# Binary Tree Level Order Traversal"
   ]
  },
  {
   "cell_type": "code",
   "execution_count": null,
   "metadata": {},
   "outputs": [],
   "source": [
    "# Rotting Oranges"
   ]
  },
  {
   "cell_type": "code",
   "execution_count": null,
   "metadata": {},
   "outputs": [],
   "source": [
    "# Word Ladder"
   ]
  },
  {
   "cell_type": "markdown",
   "metadata": {},
   "source": [
    "##### 13.MatrixTraversal"
   ]
  },
  {
   "cell_type": "code",
   "execution_count": null,
   "metadata": {},
   "outputs": [],
   "source": [
    "# Matrix Problems (2D Array) --> Graph Problems (Nodes and Edges)\n",
    "# Can use DFS or BFS to Solve Matrix Problems"
   ]
  },
  {
   "cell_type": "code",
   "execution_count": null,
   "metadata": {},
   "outputs": [],
   "source": [
    "# Finding a shortest path in a grid\n"
   ]
  },
  {
   "cell_type": "code",
   "execution_count": null,
   "metadata": {},
   "outputs": [],
   "source": [
    "# Flood Fill"
   ]
  },
  {
   "cell_type": "code",
   "execution_count": null,
   "metadata": {},
   "outputs": [],
   "source": [
    "# Number of Islands"
   ]
  },
  {
   "cell_type": "code",
   "execution_count": null,
   "metadata": {},
   "outputs": [],
   "source": [
    "# Surrounded Regions"
   ]
  },
  {
   "cell_type": "markdown",
   "metadata": {},
   "source": [
    "##### 14.Backtracking"
   ]
  },
  {
   "cell_type": "code",
   "execution_count": null,
   "metadata": {},
   "outputs": [],
   "source": [
    "# Solving problems using all potential solution paths and backtracking the paths that do not lead to a valid solution\n"
   ]
  },
  {
   "cell_type": "code",
   "execution_count": null,
   "metadata": {},
   "outputs": [],
   "source": [
    "# Genrate all possible permutations or combinations of a given set of elements\n",
    "# SOlve puzzils like sudoku or N-Queens problem\n",
    "# Solve all possible paths from start to end in a graph or a maze\n",
    "# Generate all valid parentheses of a given length\n",
    "# Generate all possible subsets for elements given in array"
   ]
  },
  {
   "cell_type": "code",
   "execution_count": null,
   "metadata": {},
   "outputs": [],
   "source": [
    "# Permutations "
   ]
  },
  {
   "cell_type": "code",
   "execution_count": null,
   "metadata": {},
   "outputs": [],
   "source": [
    "# Subsets"
   ]
  },
  {
   "cell_type": "code",
   "execution_count": null,
   "metadata": {},
   "outputs": [],
   "source": [
    "# N-Queens"
   ]
  },
  {
   "cell_type": "markdown",
   "metadata": {},
   "source": [
    "##### 15.DynamicProgrammingPatterns"
   ]
  },
  {
   "cell_type": "code",
   "execution_count": null,
   "metadata": {},
   "outputs": [],
   "source": [
    "# Solving optimizatoin problems by breaking them down into smaller subproblems and storing their solutionsto avoid repititive work\n",
    "# Overlapping Subproblems\n",
    "# Optimal Substructure"
   ]
  },
  {
   "cell_type": "code",
   "execution_count": null,
   "metadata": {},
   "outputs": [],
   "source": [
    "# Maximizing or Minimizing a Certain Value\n",
    "# Count number of ways"
   ]
  },
  {
   "cell_type": "code",
   "execution_count": null,
   "metadata": {},
   "outputs": [],
   "source": [
    "# Fibonacci Numbers\n",
    "# Subset Sum\n",
    "# Matrix Chain Multiplication\n",
    "# 0/1 Knapsack"
   ]
  },
  {
   "cell_type": "code",
   "execution_count": null,
   "metadata": {},
   "outputs": [],
   "source": [
    "# Climbing Stairs"
   ]
  },
  {
   "cell_type": "code",
   "execution_count": null,
   "metadata": {},
   "outputs": [],
   "source": [
    "# Longest Increasing Subsequence LIS"
   ]
  },
  {
   "cell_type": "code",
   "execution_count": null,
   "metadata": {},
   "outputs": [],
   "source": [
    "# Coin Change"
   ]
  },
  {
   "cell_type": "code",
   "execution_count": null,
   "metadata": {},
   "outputs": [],
   "source": [
    "# Partition Equal Subset Sum"
   ]
  },
  {
   "cell_type": "code",
   "execution_count": null,
   "metadata": {},
   "outputs": [],
   "source": [
    "# Longest Common Subsequence LCS"
   ]
  },
  {
   "cell_type": "code",
   "execution_count": null,
   "metadata": {},
   "outputs": [],
   "source": [
    "# Burst Balloons"
   ]
  },
  {
   "cell_type": "markdown",
   "metadata": {},
   "source": [
    "##### Graph Traversal"
   ]
  },
  {
   "cell_type": "markdown",
   "metadata": {},
   "source": [
    "##### Bit Manipulation"
   ]
  }
 ],
 "metadata": {
  "kernelspec": {
   "display_name": "Python 3",
   "language": "python",
   "name": "python3"
  },
  "language_info": {
   "codemirror_mode": {
    "name": "ipython",
    "version": 3
   },
   "file_extension": ".py",
   "mimetype": "text/x-python",
   "name": "python",
   "nbconvert_exporter": "python",
   "pygments_lexer": "ipython3",
   "version": "3.13.0"
  }
 },
 "nbformat": 4,
 "nbformat_minor": 2
}
